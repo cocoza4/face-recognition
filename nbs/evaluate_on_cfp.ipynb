{
 "cells": [
  {
   "cell_type": "code",
   "execution_count": 11,
   "metadata": {},
   "outputs": [
    {
     "name": "stdout",
     "output_type": "stream",
     "text": [
      "The autoreload extension is already loaded. To reload it, use:\n",
      "  %reload_ext autoreload\n"
     ]
    },
    {
     "data": {
      "text/plain": [
       "'2.1.0'"
      ]
     },
     "execution_count": 11,
     "metadata": {},
     "output_type": "execute_result"
    }
   ],
   "source": [
    "%load_ext autoreload\n",
    "%autoreload 2\n",
    "\n",
    "import sys\n",
    "sys.path.append('/home/cocoza4/workspace/absorouteio/asr-face-recognition/src')\n",
    "\n",
    "import os\n",
    "import csv\n",
    "import numpy as np\n",
    "import pandas as pd\n",
    "import tensorflow as tf\n",
    "from PIL import Image\n",
    "from pathlib import Path\n",
    "from tqdm.auto import tqdm\n",
    "from scipy import interpolate\n",
    "\n",
    "import matplotlib.pyplot as plt\n",
    "\n",
    "import utils\n",
    "\n",
    "tf.__version__"
   ]
  },
  {
   "cell_type": "code",
   "execution_count": null,
   "metadata": {},
   "outputs": [],
   "source": []
  },
  {
   "cell_type": "code",
   "execution_count": 2,
   "metadata": {},
   "outputs": [],
   "source": [
    "ff_path = Path('/home/cocoza4/datasets/cfp_front_mtcnn_margin32')\n",
    "fp_path = Path('/home/cocoza4/datasets/cfp_profile')\n",
    "\n",
    "model_path = Path('/home/cocoza4/workspace/facenet/models/facenet/VGGFace2/20180402-114759')"
   ]
  },
  {
   "cell_type": "code",
   "execution_count": 12,
   "metadata": {},
   "outputs": [],
   "source": [
    "def load_graph(modle_file):\n",
    "    graph = tf.Graph()\n",
    "    with graph.as_default():\n",
    "        graph_def = tf.compat.v1.GraphDef()\n",
    "        with tf.io.gfile.GFile(str(modle_file), 'rb') as fid:\n",
    "            serialized_graph = fid.read()\n",
    "            graph_def.ParseFromString(serialized_graph)\n",
    "            tf.import_graph_def(graph_def, name='')\n",
    "\n",
    "    return graph\n",
    "\n",
    "def preprocess(files):\n",
    "    images = []\n",
    "    for file in files:\n",
    "        resized = Image.open(file).resize((160, 160))\n",
    "        img = np.asarray(resized)\n",
    "        if img.ndim == 2:\n",
    "            print(file, img.shape)\n",
    "            img = utils.to_rgb(img)\n",
    "        img = (img - 127.5) / 128.\n",
    "        images.append(img)\n",
    "    return np.array(images)\n",
    "\n",
    "def inference(sess, inputs):\n",
    "    feed_dict = {images_placeholder: inputs, 'phase_train:0': False}\n",
    "    return sess.run(embeddings, feed_dict=feed_dict)"
   ]
  },
  {
   "cell_type": "code",
   "execution_count": null,
   "metadata": {},
   "outputs": [],
   "source": []
  },
  {
   "cell_type": "code",
   "execution_count": 4,
   "metadata": {},
   "outputs": [],
   "source": [
    "embedding_size = 512\n",
    "batch_size = 64"
   ]
  },
  {
   "cell_type": "code",
   "execution_count": 5,
   "metadata": {},
   "outputs": [
    {
     "data": {
      "text/plain": [
       "(160, 160, 3)"
      ]
     },
     "execution_count": 5,
     "metadata": {},
     "output_type": "execute_result"
    }
   ],
   "source": [
    "img_file = '/home/cocoza4/datasets/cfp_front_mtcnn_margin32/001/01.png'\n",
    "img = np.asarray(Image.open(img_file).resize((160, 160)))\n",
    "img.shape"
   ]
  },
  {
   "cell_type": "code",
   "execution_count": 6,
   "metadata": {},
   "outputs": [],
   "source": [
    "graph = load_graph(model_path/'20180402-114759.pb')\n",
    "images_placeholder = graph.get_tensor_by_name(\"input:0\")\n",
    "embeddings = graph.get_tensor_by_name(\"embeddings:0\")"
   ]
  },
  {
   "cell_type": "code",
   "execution_count": 7,
   "metadata": {},
   "outputs": [],
   "source": [
    "sess = tf.compat.v1.Session(graph=graph)"
   ]
  },
  {
   "cell_type": "code",
   "execution_count": 8,
   "metadata": {},
   "outputs": [
    {
     "data": {
      "text/plain": [
       "array([[ 7.05738440e-02, -2.48117582e-03, -7.03147845e-03,\n",
       "        -3.12255938e-02, -7.15363249e-02, -5.69844507e-02,\n",
       "        -4.98510487e-02, -1.31327463e-02,  5.43050505e-02,\n",
       "        -1.13506965e-01, -2.51275692e-02, -2.63893846e-02,\n",
       "         1.99282523e-02, -4.13102210e-02, -7.31099863e-03,\n",
       "        -1.65218711e-02,  4.63890769e-02, -1.33911632e-02,\n",
       "        -3.33237760e-02, -2.83627845e-02,  2.32691667e-03,\n",
       "        -5.19025102e-02,  3.28694694e-02,  3.63047197e-02,\n",
       "        -2.82503720e-02,  4.70629297e-02, -3.05005927e-02,\n",
       "        -1.42018648e-03,  4.48592789e-02,  6.15581945e-02,\n",
       "         2.11698730e-02,  3.24277654e-02, -3.27140186e-03,\n",
       "        -5.69126792e-02, -7.23220268e-03,  3.85919549e-02,\n",
       "        -7.35965520e-02,  9.69581027e-03, -5.04008532e-02,\n",
       "         6.04889691e-02,  1.00137116e-02, -3.84257436e-02,\n",
       "        -3.11580971e-02, -6.52833143e-03,  5.20800706e-03,\n",
       "        -4.32015508e-02, -4.23978232e-02,  7.38090128e-02,\n",
       "        -7.30187073e-02,  2.74887821e-03, -1.49351964e-02,\n",
       "         5.12954034e-02,  4.92012128e-04,  3.84225994e-02,\n",
       "        -2.90859658e-02,  6.94649369e-02,  2.78298706e-02,\n",
       "         2.01912057e-02,  8.47128406e-02,  2.14517899e-02,\n",
       "         2.06282921e-02,  3.79406288e-02, -7.63002038e-03,\n",
       "         3.83725874e-02,  4.15902026e-02,  6.22568242e-02,\n",
       "        -2.39164252e-02,  1.24939531e-02, -6.13378994e-02,\n",
       "         1.48213049e-02, -7.53545575e-03,  7.98600912e-02,\n",
       "        -2.29449198e-02, -4.74188663e-03, -1.22161610e-02,\n",
       "        -9.53095183e-02, -1.24572635e-01, -1.38666350e-02,\n",
       "        -2.28766035e-02,  4.09658849e-02,  2.24756766e-02,\n",
       "        -3.68014909e-02, -2.79397387e-02,  6.16418608e-02,\n",
       "         4.57955636e-02, -9.54492092e-02, -1.66595299e-02,\n",
       "         8.33154321e-02,  1.51356626e-02,  6.14166539e-03,\n",
       "         1.11854210e-01, -4.10566069e-02,  8.78485292e-02,\n",
       "        -6.15035444e-02,  2.70750150e-02, -9.74601414e-03,\n",
       "         1.20174931e-02,  3.41398790e-02,  7.66039547e-03,\n",
       "        -1.97826400e-02,  4.74253371e-02, -6.58871159e-02,\n",
       "        -8.05443376e-02,  8.80422294e-02,  4.69640754e-02,\n",
       "         6.21348917e-02,  5.29506877e-02,  2.91432180e-02,\n",
       "         1.22252377e-02,  4.49507535e-02,  4.99801673e-02,\n",
       "         6.91115782e-02, -2.64689997e-02, -3.04212905e-02,\n",
       "        -7.11706467e-04, -6.80837035e-02, -3.12354472e-02,\n",
       "        -8.85927901e-02, -5.22395112e-02,  1.45431971e-02,\n",
       "        -1.94836706e-02,  3.28062214e-02, -1.08674876e-01,\n",
       "        -2.79820915e-02, -1.42283477e-02, -1.92657998e-03,\n",
       "         3.87823619e-02, -4.40874882e-02, -2.01912951e-02,\n",
       "         1.81653611e-02, -7.28983954e-02,  2.56267330e-03,\n",
       "         4.18032482e-02, -2.68334113e-02, -5.13808541e-02,\n",
       "         5.45617472e-03, -2.06436440e-02, -2.19326951e-02,\n",
       "         4.73621748e-02,  3.82058285e-02,  1.15855439e-02,\n",
       "        -2.59578731e-02, -2.26502642e-02,  1.96343102e-02,\n",
       "         3.18801627e-02, -9.17363837e-02,  2.02883817e-02,\n",
       "        -8.13209359e-03, -6.61355555e-02,  8.00346863e-03,\n",
       "         4.01552320e-02,  6.05034409e-03,  1.21708466e-02,\n",
       "         1.97237660e-03,  3.80725823e-02, -6.24950742e-03,\n",
       "        -3.26557644e-02, -2.88936011e-02,  4.71670553e-02,\n",
       "        -1.73277725e-02,  1.04488760e-01, -4.54883054e-02,\n",
       "         2.31010504e-02,  9.57667362e-03, -2.57451716e-03,\n",
       "         1.14245499e-02,  3.69097255e-02,  1.67924557e-02,\n",
       "        -3.83466408e-02, -5.09858727e-02, -2.48244982e-02,\n",
       "        -2.80876812e-02,  8.01468361e-03, -4.33816388e-02,\n",
       "         2.82815881e-02,  5.79452030e-02, -1.68107189e-02,\n",
       "        -9.93703399e-03,  3.81342159e-03, -6.94921240e-02,\n",
       "        -3.11646033e-02, -6.47762790e-02, -8.97880644e-02,\n",
       "        -1.89742167e-02,  3.88958789e-02,  9.90974084e-02,\n",
       "        -6.65975884e-02,  5.47533333e-02, -3.30766737e-02,\n",
       "         3.62424441e-02,  6.49616774e-03, -7.98505098e-02,\n",
       "         6.81073405e-03, -8.90398324e-02,  5.01674274e-03,\n",
       "        -2.69577708e-02,  2.14169901e-02, -1.12514570e-03,\n",
       "        -2.51723342e-02, -6.01774491e-02,  1.74115226e-02,\n",
       "         3.37847024e-02, -3.11029814e-02, -3.13910656e-02,\n",
       "         1.55415190e-02, -4.52138111e-02,  9.98512469e-03,\n",
       "        -3.75789106e-02,  3.65875475e-02,  4.86830287e-02,\n",
       "         3.56819510e-04,  5.59350178e-02,  1.16506638e-02,\n",
       "         1.15606217e-02,  2.68664607e-03, -9.49483365e-03,\n",
       "        -1.76403988e-02,  5.49449958e-02, -1.17177730e-02,\n",
       "         1.34213474e-02, -6.19790405e-02, -6.77946582e-02,\n",
       "        -1.36746570e-01, -2.48703789e-02, -4.19443510e-02,\n",
       "        -5.08211926e-02, -3.03521808e-02,  3.78725938e-02,\n",
       "        -9.82559845e-02, -6.09529614e-02,  1.87546238e-02,\n",
       "        -4.58592772e-02, -1.20707816e-02, -1.09846100e-01,\n",
       "         1.75717324e-02, -1.64988320e-02, -1.61687913e-03,\n",
       "         9.51287523e-02, -1.00486949e-02, -1.06401272e-01,\n",
       "         7.25755021e-02,  1.65872124e-03,  2.37137154e-02,\n",
       "        -3.05078458e-02,  2.30422039e-02,  4.97603826e-02,\n",
       "         6.85574934e-02,  6.55842647e-02, -6.70981929e-02,\n",
       "        -2.72407942e-02, -4.94631473e-04, -5.98771032e-03,\n",
       "         2.12247558e-02,  7.35758711e-03,  1.11094238e-02,\n",
       "         4.12476473e-02,  1.51692415e-02, -1.33653833e-02,\n",
       "         4.93840724e-02,  1.04152270e-01,  2.91953068e-02,\n",
       "        -8.69092494e-02,  1.72599349e-02, -1.95325296e-02,\n",
       "         7.09304661e-02, -4.38733399e-02, -2.09592599e-02,\n",
       "         8.56842324e-02, -6.32843375e-02, -3.16813029e-02,\n",
       "         2.52207499e-02,  5.91553748e-03,  6.31858781e-02,\n",
       "         6.51240489e-03,  2.29267832e-02, -4.76606051e-03,\n",
       "         7.37319887e-02,  1.00437272e-02, -6.66316599e-03,\n",
       "        -7.24283233e-02, -1.92025322e-02, -3.04335691e-02,\n",
       "         4.47029471e-02, -3.24058533e-02, -1.16102174e-02,\n",
       "        -1.66098941e-02, -2.64938045e-02,  2.95315031e-02,\n",
       "        -9.73396562e-03, -4.58142720e-02, -1.74418397e-04,\n",
       "        -1.59841888e-02,  1.71256121e-02, -2.75277495e-02,\n",
       "         1.00903288e-02, -2.17617918e-02,  4.34965901e-02,\n",
       "        -3.79614048e-02,  3.89457569e-02,  1.99691113e-02,\n",
       "         3.75491977e-02, -6.20303974e-02,  3.71460356e-02,\n",
       "        -7.19684809e-02,  9.48411319e-03,  4.16730940e-02,\n",
       "         5.56373037e-02, -7.52949640e-02,  1.09965324e-01,\n",
       "         4.09040228e-02, -3.54607962e-02, -3.47245969e-02,\n",
       "         2.74847336e-02,  3.06176692e-02, -1.96199212e-02,\n",
       "        -3.59987244e-02, -1.00448214e-01,  2.08785776e-02,\n",
       "        -4.23881039e-02, -1.00978920e-02, -5.91566600e-02,\n",
       "        -4.79773916e-02, -4.39722985e-02,  6.35439977e-02,\n",
       "        -7.95657113e-02, -4.65205275e-02, -4.18771878e-02,\n",
       "         6.74815997e-02, -1.33290486e-02,  4.87150252e-02,\n",
       "         3.48423831e-02,  2.05269028e-02, -6.19806116e-03,\n",
       "         8.06091167e-03,  2.70571411e-02, -4.30604108e-02,\n",
       "        -5.10390773e-02, -1.11175710e-02,  5.31590730e-02,\n",
       "         1.35833910e-02, -3.12494244e-02, -7.11809918e-02,\n",
       "        -4.37865919e-03, -2.88979281e-02,  1.14158140e-02,\n",
       "        -5.25566563e-02,  5.97934537e-02,  3.37305275e-04,\n",
       "         6.28605932e-02,  2.09103823e-02,  2.19578240e-02,\n",
       "        -2.75223260e-03,  2.71762982e-02, -5.47518954e-02,\n",
       "        -8.86684507e-02,  3.25389840e-02,  2.22564414e-02,\n",
       "        -1.82540286e-02,  6.83834553e-02,  9.29728989e-03,\n",
       "        -9.23872292e-02,  3.19157839e-02, -3.70404683e-02,\n",
       "        -3.83853950e-02,  2.22489936e-03,  3.91049385e-02,\n",
       "         5.12310863e-02, -2.64015161e-02,  6.81162393e-03,\n",
       "        -6.06303662e-02, -1.29338568e-02, -5.32212220e-02,\n",
       "        -2.67873630e-02,  5.95201068e-02,  9.60487798e-02,\n",
       "         4.41430807e-02,  4.15799171e-02,  5.67656662e-03,\n",
       "        -4.67379950e-02,  3.01796030e-02, -8.47859774e-03,\n",
       "        -4.36850786e-02, -6.41547665e-02,  7.28570744e-02,\n",
       "         1.21588577e-02, -1.42059391e-02,  3.75617482e-02,\n",
       "         8.78947973e-03,  4.11398942e-03, -1.10932924e-02,\n",
       "         5.81035018e-02, -6.48158090e-03, -3.15961428e-02,\n",
       "         4.48066443e-02, -3.08422819e-02, -3.81486155e-02,\n",
       "         3.59941944e-02,  5.61909825e-02, -4.72695790e-02,\n",
       "        -7.58652315e-02,  2.43898742e-02,  6.02137670e-02,\n",
       "         1.33084441e-02,  2.31719855e-02, -5.19833677e-02,\n",
       "        -1.62181146e-02, -5.34562953e-02, -6.71718717e-02,\n",
       "        -5.85774258e-02,  1.20638033e-04,  6.31799921e-02,\n",
       "         6.00102097e-02, -4.43576090e-02, -3.56761105e-02,\n",
       "         2.70879008e-02, -1.07850032e-02,  3.97446081e-02,\n",
       "         7.67051131e-02, -2.95305345e-02, -2.37999205e-02,\n",
       "        -2.81727724e-02,  4.59059812e-02, -2.05171667e-02,\n",
       "         1.25982482e-02, -1.97773632e-02, -2.23663989e-02,\n",
       "         4.07669246e-02, -3.60765159e-02,  1.29225031e-02,\n",
       "        -7.90644158e-03, -5.11003770e-02,  2.30585728e-02,\n",
       "         5.49697550e-03, -3.01578548e-02, -4.10598852e-02,\n",
       "         5.92663065e-02,  4.92557138e-03,  7.20489621e-02,\n",
       "         2.94448119e-02,  6.16510361e-02,  5.70600405e-02,\n",
       "         5.62129579e-02,  1.73869897e-02,  7.50255072e-04,\n",
       "         5.67103038e-03,  2.55206972e-02, -8.78725492e-04,\n",
       "        -2.01542582e-02, -3.83553728e-02,  5.46250828e-02,\n",
       "        -7.16312453e-02, -3.08100283e-02,  2.27754749e-02,\n",
       "        -1.11799575e-02,  6.80991856e-04,  2.32456252e-02,\n",
       "        -1.13403716e-03,  4.31901542e-04,  2.24969387e-02,\n",
       "        -1.74623486e-02, -3.63611057e-02, -3.11148111e-02,\n",
       "         2.50597135e-03, -1.65769272e-02,  7.23137781e-02,\n",
       "        -8.42270348e-03, -4.00702422e-03, -2.89846435e-02,\n",
       "         1.48351388e-02,  5.18937819e-02,  4.93960492e-02,\n",
       "         3.71803879e-03,  4.03664522e-02, -4.11248617e-02,\n",
       "        -3.42897177e-02, -6.31698407e-03,  2.39838418e-02,\n",
       "        -2.28348803e-02,  3.93796079e-02,  2.48981896e-03,\n",
       "         3.44843492e-02, -3.68012637e-02,  3.31902616e-02,\n",
       "         6.41285554e-02,  4.71633021e-03,  5.12799947e-03,\n",
       "        -3.02872676e-02,  5.12744859e-02,  5.70598282e-02,\n",
       "        -8.80436003e-02,  1.28351431e-02,  2.18615611e-03,\n",
       "         7.51454104e-03, -4.07239199e-02,  4.01290879e-02,\n",
       "         3.64653058e-02, -6.66848496e-02, -3.24564837e-02,\n",
       "         1.70265362e-02, -6.30205870e-02, -1.04167014e-01,\n",
       "        -1.63518339e-02, -6.28162548e-02,  7.74822151e-03,\n",
       "        -3.00376788e-02,  6.39321208e-02,  2.81160139e-02,\n",
       "        -2.72185225e-02, -1.15529131e-02, -1.15531590e-02,\n",
       "         7.96026736e-02, -5.39097227e-02]], dtype=float32)"
      ]
     },
     "execution_count": 8,
     "metadata": {},
     "output_type": "execute_result"
    }
   ],
   "source": [
    "X_sample = preprocess([img_file])\n",
    "emb = inference(sess, X_sample)\n",
    "emb"
   ]
  },
  {
   "cell_type": "code",
   "execution_count": 9,
   "metadata": {},
   "outputs": [],
   "source": [
    "def predict_embeddings(paths, fold):\n",
    "    n_images = len(paths)\n",
    "    embs_array = np.zeros((n_images, embedding_size))\n",
    "    it = tqdm(range(0, n_images, batch_size), 'Fold {}'.format(fold))\n",
    "    for start in it:\n",
    "        end = start + batch_size\n",
    "        batch = preprocess(paths[start:end])\n",
    "        embs_array[start:end] = inference(sess, batch)\n",
    "        \n",
    "    return embs_array\n",
    "\n",
    "def calculate_accuracy(threshold, dist, actual_issame):\n",
    "    predict_issame = np.less(dist, threshold)\n",
    "    tp = np.sum(np.logical_and(predict_issame, actual_issame))\n",
    "    fp = np.sum(np.logical_and(predict_issame, np.logical_not(actual_issame)))\n",
    "    tn = np.sum(np.logical_and(np.logical_not(predict_issame), np.logical_not(actual_issame)))\n",
    "    fn = np.sum(np.logical_and(np.logical_not(predict_issame), actual_issame))\n",
    "  \n",
    "    tpr = 0 if (tp+fn==0) else float(tp) / float(tp+fn)\n",
    "    fpr = 0 if (fp+tn==0) else float(fp) / float(fp+tn)\n",
    "    acc = float(tp+tn)/dist.size\n",
    "    return tpr, fpr, acc\n",
    "\n",
    "def calculate_val_far_frr(threshold, dist, actual_issame):\n",
    "    predict_issame = np.less(dist, threshold)\n",
    "    true_accept = np.sum(np.logical_and(predict_issame, actual_issame))\n",
    "    false_accept = np.sum(np.logical_and(predict_issame, np.logical_not(actual_issame)))\n",
    "    false_reject = np.sum(np.logical_and(np.logical_not(predict_issame), actual_issame))\n",
    "    n_same = np.sum(actual_issame)\n",
    "    n_diff = np.sum(np.logical_not(actual_issame))\n",
    "    val = float(true_accept) / float(n_same)\n",
    "    far = float(false_accept) / float(n_diff)\n",
    "    frr = float(false_reject) / float(n_same)\n",
    "    return val, far, frr\n",
    "\n",
    "def distance(embs):\n",
    "    embs1 = embs[0::2]\n",
    "    embs2 = embs[1::2]\n",
    "    diff = np.subtract(embs1, embs2)\n",
    "    dist = np.sum(np.square(diff), 1)\n",
    "    return dist\n",
    "\n",
    "def calculate_roc(thresholds, folds, issame_folds):\n",
    "    n_folds = len(folds)\n",
    "    n_thresholds = len(thresholds)\n",
    "    acc_train = np.zeros((n_thresholds))\n",
    "\n",
    "    tprs = np.zeros((n_folds, n_thresholds))\n",
    "    fprs = np.zeros((n_folds, n_thresholds))\n",
    "    accuracy = np.zeros((n_folds))\n",
    "    \n",
    "    for fold_idx in range(len(folds)):\n",
    "        embs_train = np.concatenate([folds[j] for j in range(n_folds) if fold_idx != j], axis=0)\n",
    "        same_train = np.concatenate([issame_folds[j] for j in range(n_folds) if fold_idx != j], axis=0)\n",
    "        dist_train = distance(embs_train)\n",
    "\n",
    "        embs_eval = folds[fold_idx]\n",
    "        same_eval = issame_folds[fold_idx]\n",
    "        dist_eval = distance(embs_eval)\n",
    "\n",
    "        for threshold_idx, threshold in enumerate(thresholds):\n",
    "            _, _, acc_train[threshold_idx] = calculate_accuracy(threshold, dist_train, same_train)\n",
    "\n",
    "        best_threshold_idx = np.argmax(acc_train)\n",
    "        for threshold_idx, threshold in enumerate(thresholds):\n",
    "                tprs[fold_idx, threshold_idx], fprs[fold_idx, threshold_idx], _ = \\\n",
    "                            calculate_accuracy(threshold, dist_eval, same_eval)\n",
    "        _, _, accuracy[fold_idx] = calculate_accuracy(thresholds[best_threshold_idx], dist_eval, same_eval)\n",
    "\n",
    "\n",
    "        tpr = np.mean(tprs, 0)\n",
    "        fpr = np.mean(fprs, 0)\n",
    "        \n",
    "    return tpr, fpr, accuracy\n",
    "\n",
    "def calculate_val(thresholds, folds, issame_folds, far_target):\n",
    "    n_folds = len(folds)\n",
    "    val = np.zeros(n_folds)\n",
    "    far = np.zeros(n_folds)\n",
    "    frr = np.zeros(n_folds)\n",
    "    n_thresholds = len(thresholds)\n",
    "    for fold_idx in range(len(folds)):\n",
    "        embs_train = np.concatenate([folds[j] for j in range(n_folds) if fold_idx != j], axis=0)\n",
    "        same_train = np.concatenate([issame_folds[j] for j in range(n_folds) if fold_idx != j], axis=0)\n",
    "        dist_train = distance(embs_train)\n",
    "\n",
    "        embs_eval = folds[fold_idx]\n",
    "        same_eval = issame_folds[fold_idx]\n",
    "        dist_eval = distance(embs_eval)\n",
    "\n",
    "        # Find the threshold that gives FAR = far_target\n",
    "        far_train = np.zeros(n_thresholds)\n",
    "        for threshold_idx, threshold in enumerate(thresholds):\n",
    "            _, far_train[threshold_idx], _ = calculate_val_far_frr(threshold, dist_train, same_train)\n",
    "            if np.max(far_train) >= far_target:\n",
    "                f = interpolate.interp1d(far_train, thresholds, kind='slinear')\n",
    "                threshold = f(far_target)\n",
    "            else:\n",
    "                threshold = 0.0\n",
    "\n",
    "            val[fold_idx], far[fold_idx], frr[fold_idx] = \\\n",
    "                    calculate_val_far_frr(threshold, dist_eval, same_eval)\n",
    "\n",
    "\n",
    "    val_mean = np.mean(val)\n",
    "    far_mean = np.mean(far)\n",
    "    frr_mean = np.mean(frr)\n",
    "    val_std = np.std(val)\n",
    "    return val_mean, val_std, far_mean, frr_mean\n",
    "\n",
    "def get_mapping(f):\n",
    "    df = pd.read_csv(f, header=None)\n",
    "    mapping = {row[0]: row[1] for _, row in df.iterrows()}\n",
    "    return mapping\n",
    "\n",
    "def get_XY(df):\n",
    "    image_paths = []\n",
    "    same_list = []\n",
    "    for _, row in df.iterrows():\n",
    "        id1 = row['id1']\n",
    "        id2 = row['id2']\n",
    "        same = bool(row['same'])\n",
    "        \n",
    "        if not os.path.exists(id1) or not os.path.exists(id2):\n",
    "            print('Skipping {} and {} pair, either one of them or both are missing '\n",
    "                  'due to unsuccessful face detection'.format(str(id1), str(id2)))\n",
    "        else:\n",
    "            image_paths += [id1, id2]\n",
    "            same_list.append(same)\n",
    "        \n",
    "    return image_paths, same_list\n",
    "\n",
    "\n",
    "def evaluate_ff(dataset_dir, fold_files, mapping_pair_file):\n",
    "    folds = []\n",
    "    issame_folds = []\n",
    "    \n",
    "    dataset_dir = Path(dataset_dir)\n",
    "    mapping = get_mapping(mapping_pair_file)\n",
    "\n",
    "    for i, f in enumerate(fold_files):\n",
    "        df_fold = pd.read_csv(f)\n",
    "        df_fold['id1'] = df_fold['id1'].map(lambda x: dataset_dir/mapping[x])\n",
    "        df_fold['id2'] = df_fold['id2'].map(lambda x: dataset_dir/mapping[x])\n",
    "        paths, same_list = get_XY(df_fold)\n",
    "        embs = predict_embeddings(paths, i+1)\n",
    "        folds.append(embs)\n",
    "        issame_folds.append(same_list)\n",
    "    \n",
    "    thresholds = np.arange(0, 4, 0.01)\n",
    "    tpr, fpr, accuracy = calculate_roc(thresholds, folds, issame_folds)\n",
    "    thresholds = np.arange(0, 4, 0.001)\n",
    "    val, val_std, far, frr = calculate_val(thresholds, folds, issame_folds, far_target=1e-3)\n",
    "    \n",
    "    return tpr, fpr, accuracy, val, val_std, far, frr\n",
    "\n",
    "def evaluate_fp(f_dir, p_dir, fold_files, ff_mapping_file, fp_mapping_file):\n",
    "    folds = []\n",
    "    issame_folds = []\n",
    "    \n",
    "    f_dir = Path(f_dir)\n",
    "    p_dir = Path(p_dir)\n",
    "    ff_mapping = get_mapping(ff_mapping_file)\n",
    "    fp_mapping = get_mapping(fp_mapping_file)\n",
    "\n",
    "    for i, f in enumerate(fold_files):\n",
    "        df_fold = pd.read_csv(f)\n",
    "        df_fold['id1'] = df_fold['id1'].map(lambda x: f_dir/ff_mapping[x])\n",
    "        df_fold['id2'] = df_fold['id2'].map(lambda x: p_dir/fp_mapping[x])\n",
    "        paths, same_list = get_XY(df_fold)\n",
    "        \n",
    "        embs = predict_embeddings(paths, i+1)\n",
    "        folds.append(embs)\n",
    "        issame_folds.append(same_list)\n",
    "        \n",
    "    thresholds = np.arange(0, 4, 0.01)\n",
    "    tpr, fpr, accuracy = calculate_roc(thresholds, folds, issame_folds)\n",
    "    thresholds = np.arange(0, 4, 0.001)\n",
    "    val, val_std, far, frr = calculate_val(thresholds, folds, issame_folds, far_target=1e-3)\n",
    "    \n",
    "    return tpr, fpr, accuracy, val, val_std, far, frr\n",
    "    "
   ]
  },
  {
   "cell_type": "code",
   "execution_count": 10,
   "metadata": {},
   "outputs": [],
   "source": [
    "ff_fold_files = list(ff_path.glob('ff*.csv'))\n",
    "fp_fold_files = list(fp_path.glob('fp*.csv'))\n",
    "ff_mapping_file = ff_path / 'pair_list_ff.csv'\n",
    "fp_mapping_file = ff_path / 'pair_list_fp.csv'"
   ]
  },
  {
   "cell_type": "code",
   "execution_count": 11,
   "metadata": {},
   "outputs": [],
   "source": [
    "ff_mapping = get_mapping(ff_mapping_file)\n",
    "fp_mapping = get_mapping(fp_mapping_file)"
   ]
  },
  {
   "cell_type": "code",
   "execution_count": null,
   "metadata": {},
   "outputs": [],
   "source": []
  },
  {
   "cell_type": "code",
   "execution_count": 200,
   "metadata": {},
   "outputs": [
    {
     "data": {
      "application/vnd.jupyter.widget-view+json": {
       "model_id": "3a526effd2a6439284e5fc09aac30229",
       "version_major": 2,
       "version_minor": 0
      },
      "text/plain": [
       "HBox(children=(FloatProgress(value=0.0, description='Fold 1', max=22.0, style=ProgressStyle(description_width=…"
      ]
     },
     "metadata": {},
     "output_type": "display_data"
    },
    {
     "name": "stdout",
     "output_type": "stream",
     "text": [
      "\n",
      "Skipping /home/cocoza4/datasets/cfp_front_mtcnn_margin32/053/07.png and /home/cocoza4/datasets/cfp_front_mtcnn_margin32/053/10.png pair, either one of them or both are missing due to unsuccessful face detection\n",
      "Skipping /home/cocoza4/datasets/cfp_front_mtcnn_margin32/053/04.png and /home/cocoza4/datasets/cfp_front_mtcnn_margin32/053/08.png pair, either one of them or both are missing due to unsuccessful face detection\n",
      "Skipping /home/cocoza4/datasets/cfp_front_mtcnn_margin32/053/04.png and /home/cocoza4/datasets/cfp_front_mtcnn_margin32/053/06.png pair, either one of them or both are missing due to unsuccessful face detection\n",
      "Skipping /home/cocoza4/datasets/cfp_front_mtcnn_margin32/053/07.png and /home/cocoza4/datasets/cfp_front_mtcnn_margin32/098/10.png pair, either one of them or both are missing due to unsuccessful face detection\n",
      "Skipping /home/cocoza4/datasets/cfp_front_mtcnn_margin32/053/07.png and /home/cocoza4/datasets/cfp_front_mtcnn_margin32/072/04.png pair, either one of them or both are missing due to unsuccessful face detection\n",
      "Skipping /home/cocoza4/datasets/cfp_front_mtcnn_margin32/070/07.png and /home/cocoza4/datasets/cfp_front_mtcnn_margin32/053/07.png pair, either one of them or both are missing due to unsuccessful face detection\n"
     ]
    },
    {
     "data": {
      "application/vnd.jupyter.widget-view+json": {
       "model_id": "886f37d6c38c43178e4ea5970b1af616",
       "version_major": 2,
       "version_minor": 0
      },
      "text/plain": [
       "HBox(children=(FloatProgress(value=0.0, description='Fold 2', max=22.0, style=ProgressStyle(description_width=…"
      ]
     },
     "metadata": {},
     "output_type": "display_data"
    },
    {
     "name": "stdout",
     "output_type": "stream",
     "text": [
      "\n"
     ]
    }
   ],
   "source": [
    "tpr, fpr, accuracy, val, val_std, far, frr = evaluate_ff(ff_path, fold_files, ff_mapping_file)"
   ]
  },
  {
   "cell_type": "code",
   "execution_count": 13,
   "metadata": {},
   "outputs": [
    {
     "data": {
      "application/vnd.jupyter.widget-view+json": {
       "model_id": "5b22530014774f868b2b81708d0e174e",
       "version_major": 2,
       "version_minor": 0
      },
      "text/plain": [
       "HBox(children=(FloatProgress(value=0.0, description='Fold 1', max=22.0, style=ProgressStyle(description_width=…"
      ]
     },
     "metadata": {},
     "output_type": "display_data"
    },
    {
     "name": "stdout",
     "output_type": "stream",
     "text": [
      "/home/cocoza4/datasets/cfp_profile/391/02.jpg (160, 160)\n",
      "/home/cocoza4/datasets/cfp_profile/391/02.jpg (160, 160)\n",
      "/home/cocoza4/datasets/cfp_profile/391/01.jpg (160, 160)\n",
      "/home/cocoza4/datasets/cfp_profile/391/02.jpg (160, 160)\n",
      "/home/cocoza4/datasets/cfp_profile/391/02.jpg (160, 160)\n",
      "/home/cocoza4/datasets/cfp_profile/391/02.jpg (160, 160)\n",
      "\n",
      "Skipping /home/cocoza4/datasets/cfp_front_mtcnn_margin32/011/09.png and /home/cocoza4/datasets/cfp_profile/011/03.jpg pair, either one of them or both are missing due to unsuccessful face detection\n",
      "Skipping /home/cocoza4/datasets/cfp_front_mtcnn_margin32/012/06.png and /home/cocoza4/datasets/cfp_profile/012/03.jpg pair, either one of them or both are missing due to unsuccessful face detection\n",
      "Skipping /home/cocoza4/datasets/cfp_front_mtcnn_margin32/012/06.png and /home/cocoza4/datasets/cfp_profile/012/02.jpg pair, either one of them or both are missing due to unsuccessful face detection\n",
      "Skipping /home/cocoza4/datasets/cfp_front_mtcnn_margin32/011/09.png and /home/cocoza4/datasets/cfp_profile/040/04.jpg pair, either one of them or both are missing due to unsuccessful face detection\n",
      "Skipping /home/cocoza4/datasets/cfp_front_mtcnn_margin32/025/06.png and /home/cocoza4/datasets/cfp_profile/035/04.jpg pair, either one of them or both are missing due to unsuccessful face detection\n"
     ]
    },
    {
     "data": {
      "application/vnd.jupyter.widget-view+json": {
       "model_id": "13e5dd530c51403bb0f92928feb8d07d",
       "version_major": 2,
       "version_minor": 0
      },
      "text/plain": [
       "HBox(children=(FloatProgress(value=0.0, description='Fold 2', max=22.0, style=ProgressStyle(description_width=…"
      ]
     },
     "metadata": {},
     "output_type": "display_data"
    },
    {
     "name": "stdout",
     "output_type": "stream",
     "text": [
      "/home/cocoza4/datasets/cfp_profile/014/03.jpg (160, 160)\n",
      "/home/cocoza4/datasets/cfp_profile/014/03.jpg (160, 160)\n",
      "/home/cocoza4/datasets/cfp_profile/014/03.jpg (160, 160)\n"
     ]
    },
    {
     "ename": "KeyboardInterrupt",
     "evalue": "",
     "output_type": "error",
     "traceback": [
      "\u001b[0;31m---------------------------------------------------------------------------\u001b[0m",
      "\u001b[0;31mKeyboardInterrupt\u001b[0m                         Traceback (most recent call last)",
      "\u001b[0;32m<ipython-input-13-bf0b5572c63c>\u001b[0m in \u001b[0;36m<module>\u001b[0;34m\u001b[0m\n\u001b[0;32m----> 1\u001b[0;31m \u001b[0mtpr\u001b[0m\u001b[0;34m,\u001b[0m \u001b[0mfpr\u001b[0m\u001b[0;34m,\u001b[0m \u001b[0maccuracy\u001b[0m\u001b[0;34m,\u001b[0m \u001b[0mval\u001b[0m\u001b[0;34m,\u001b[0m \u001b[0mval_std\u001b[0m\u001b[0;34m,\u001b[0m \u001b[0mfar\u001b[0m\u001b[0;34m,\u001b[0m \u001b[0mfrr\u001b[0m \u001b[0;34m=\u001b[0m \u001b[0mevaluate_fp\u001b[0m\u001b[0;34m(\u001b[0m\u001b[0mff_path\u001b[0m\u001b[0;34m,\u001b[0m \u001b[0mfp_path\u001b[0m\u001b[0;34m,\u001b[0m \u001b[0mfp_fold_files\u001b[0m\u001b[0;34m,\u001b[0m \u001b[0mff_mapping_file\u001b[0m\u001b[0;34m,\u001b[0m \u001b[0mfp_mapping_file\u001b[0m\u001b[0;34m)\u001b[0m\u001b[0;34m\u001b[0m\u001b[0m\n\u001b[0m",
      "\u001b[0;32m<ipython-input-9-4593d29f2d5c>\u001b[0m in \u001b[0;36mevaluate_fp\u001b[0;34m(f_dir, p_dir, fold_files, ff_mapping_file, fp_mapping_file)\u001b[0m\n\u001b[1;32m    170\u001b[0m         \u001b[0mpaths\u001b[0m\u001b[0;34m,\u001b[0m \u001b[0msame_list\u001b[0m \u001b[0;34m=\u001b[0m \u001b[0mget_XY\u001b[0m\u001b[0;34m(\u001b[0m\u001b[0mdf_fold\u001b[0m\u001b[0;34m)\u001b[0m\u001b[0;34m\u001b[0m\u001b[0m\n\u001b[1;32m    171\u001b[0m \u001b[0;34m\u001b[0m\u001b[0m\n\u001b[0;32m--> 172\u001b[0;31m         \u001b[0membs\u001b[0m \u001b[0;34m=\u001b[0m \u001b[0mpredict_embeddings\u001b[0m\u001b[0;34m(\u001b[0m\u001b[0mpaths\u001b[0m\u001b[0;34m,\u001b[0m \u001b[0mi\u001b[0m\u001b[0;34m+\u001b[0m\u001b[0;36m1\u001b[0m\u001b[0;34m)\u001b[0m\u001b[0;34m\u001b[0m\u001b[0m\n\u001b[0m\u001b[1;32m    173\u001b[0m         \u001b[0mfolds\u001b[0m\u001b[0;34m.\u001b[0m\u001b[0mappend\u001b[0m\u001b[0;34m(\u001b[0m\u001b[0membs\u001b[0m\u001b[0;34m)\u001b[0m\u001b[0;34m\u001b[0m\u001b[0m\n\u001b[1;32m    174\u001b[0m         \u001b[0missame_folds\u001b[0m\u001b[0;34m.\u001b[0m\u001b[0mappend\u001b[0m\u001b[0;34m(\u001b[0m\u001b[0msame_list\u001b[0m\u001b[0;34m)\u001b[0m\u001b[0;34m\u001b[0m\u001b[0m\n",
      "\u001b[0;32m<ipython-input-9-4593d29f2d5c>\u001b[0m in \u001b[0;36mpredict_embeddings\u001b[0;34m(paths, fold)\u001b[0m\n\u001b[1;32m      6\u001b[0m         \u001b[0mend\u001b[0m \u001b[0;34m=\u001b[0m \u001b[0mstart\u001b[0m \u001b[0;34m+\u001b[0m \u001b[0mbatch_size\u001b[0m\u001b[0;34m\u001b[0m\u001b[0m\n\u001b[1;32m      7\u001b[0m         \u001b[0mbatch\u001b[0m \u001b[0;34m=\u001b[0m \u001b[0mpreprocess\u001b[0m\u001b[0;34m(\u001b[0m\u001b[0mpaths\u001b[0m\u001b[0;34m[\u001b[0m\u001b[0mstart\u001b[0m\u001b[0;34m:\u001b[0m\u001b[0mend\u001b[0m\u001b[0;34m]\u001b[0m\u001b[0;34m)\u001b[0m\u001b[0;34m\u001b[0m\u001b[0m\n\u001b[0;32m----> 8\u001b[0;31m         \u001b[0membs_array\u001b[0m\u001b[0;34m[\u001b[0m\u001b[0mstart\u001b[0m\u001b[0;34m:\u001b[0m\u001b[0mend\u001b[0m\u001b[0;34m]\u001b[0m \u001b[0;34m=\u001b[0m \u001b[0minference\u001b[0m\u001b[0;34m(\u001b[0m\u001b[0msess\u001b[0m\u001b[0;34m,\u001b[0m \u001b[0mbatch\u001b[0m\u001b[0;34m)\u001b[0m\u001b[0;34m\u001b[0m\u001b[0m\n\u001b[0m\u001b[1;32m      9\u001b[0m \u001b[0;34m\u001b[0m\u001b[0m\n\u001b[1;32m     10\u001b[0m     \u001b[0;32mreturn\u001b[0m \u001b[0membs_array\u001b[0m\u001b[0;34m\u001b[0m\u001b[0m\n",
      "\u001b[0;32m<ipython-input-12-351aff3989be>\u001b[0m in \u001b[0;36minference\u001b[0;34m(sess, inputs)\u001b[0m\n\u001b[1;32m     24\u001b[0m \u001b[0;32mdef\u001b[0m \u001b[0minference\u001b[0m\u001b[0;34m(\u001b[0m\u001b[0msess\u001b[0m\u001b[0;34m,\u001b[0m \u001b[0minputs\u001b[0m\u001b[0;34m)\u001b[0m\u001b[0;34m:\u001b[0m\u001b[0;34m\u001b[0m\u001b[0m\n\u001b[1;32m     25\u001b[0m     \u001b[0mfeed_dict\u001b[0m \u001b[0;34m=\u001b[0m \u001b[0;34m{\u001b[0m\u001b[0mimages_placeholder\u001b[0m\u001b[0;34m:\u001b[0m \u001b[0minputs\u001b[0m\u001b[0;34m,\u001b[0m \u001b[0;34m'phase_train:0'\u001b[0m\u001b[0;34m:\u001b[0m \u001b[0;32mFalse\u001b[0m\u001b[0;34m}\u001b[0m\u001b[0;34m\u001b[0m\u001b[0m\n\u001b[0;32m---> 26\u001b[0;31m     \u001b[0;32mreturn\u001b[0m \u001b[0msess\u001b[0m\u001b[0;34m.\u001b[0m\u001b[0mrun\u001b[0m\u001b[0;34m(\u001b[0m\u001b[0membeddings\u001b[0m\u001b[0;34m,\u001b[0m \u001b[0mfeed_dict\u001b[0m\u001b[0;34m=\u001b[0m\u001b[0mfeed_dict\u001b[0m\u001b[0;34m)\u001b[0m\u001b[0;34m\u001b[0m\u001b[0m\n\u001b[0m",
      "\u001b[0;32m~/ENVs/ar-models/lib/python3.6/site-packages/tensorflow_core/python/client/session.py\u001b[0m in \u001b[0;36mrun\u001b[0;34m(self, fetches, feed_dict, options, run_metadata)\u001b[0m\n\u001b[1;32m    958\u001b[0m     \u001b[0;32mtry\u001b[0m\u001b[0;34m:\u001b[0m\u001b[0;34m\u001b[0m\u001b[0m\n\u001b[1;32m    959\u001b[0m       result = self._run(None, fetches, feed_dict, options_ptr,\n\u001b[0;32m--> 960\u001b[0;31m                          run_metadata_ptr)\n\u001b[0m\u001b[1;32m    961\u001b[0m       \u001b[0;32mif\u001b[0m \u001b[0mrun_metadata\u001b[0m\u001b[0;34m:\u001b[0m\u001b[0;34m\u001b[0m\u001b[0m\n\u001b[1;32m    962\u001b[0m         \u001b[0mproto_data\u001b[0m \u001b[0;34m=\u001b[0m \u001b[0mtf_session\u001b[0m\u001b[0;34m.\u001b[0m\u001b[0mTF_GetBuffer\u001b[0m\u001b[0;34m(\u001b[0m\u001b[0mrun_metadata_ptr\u001b[0m\u001b[0;34m)\u001b[0m\u001b[0;34m\u001b[0m\u001b[0m\n",
      "\u001b[0;32m~/ENVs/ar-models/lib/python3.6/site-packages/tensorflow_core/python/client/session.py\u001b[0m in \u001b[0;36m_run\u001b[0;34m(self, handle, fetches, feed_dict, options, run_metadata)\u001b[0m\n\u001b[1;32m   1181\u001b[0m     \u001b[0;32mif\u001b[0m \u001b[0mfinal_fetches\u001b[0m \u001b[0;32mor\u001b[0m \u001b[0mfinal_targets\u001b[0m \u001b[0;32mor\u001b[0m \u001b[0;34m(\u001b[0m\u001b[0mhandle\u001b[0m \u001b[0;32mand\u001b[0m \u001b[0mfeed_dict_tensor\u001b[0m\u001b[0;34m)\u001b[0m\u001b[0;34m:\u001b[0m\u001b[0;34m\u001b[0m\u001b[0m\n\u001b[1;32m   1182\u001b[0m       results = self._do_run(handle, final_targets, final_fetches,\n\u001b[0;32m-> 1183\u001b[0;31m                              feed_dict_tensor, options, run_metadata)\n\u001b[0m\u001b[1;32m   1184\u001b[0m     \u001b[0;32melse\u001b[0m\u001b[0;34m:\u001b[0m\u001b[0;34m\u001b[0m\u001b[0m\n\u001b[1;32m   1185\u001b[0m       \u001b[0mresults\u001b[0m \u001b[0;34m=\u001b[0m \u001b[0;34m[\u001b[0m\u001b[0;34m]\u001b[0m\u001b[0;34m\u001b[0m\u001b[0m\n",
      "\u001b[0;32m~/ENVs/ar-models/lib/python3.6/site-packages/tensorflow_core/python/client/session.py\u001b[0m in \u001b[0;36m_do_run\u001b[0;34m(self, handle, target_list, fetch_list, feed_dict, options, run_metadata)\u001b[0m\n\u001b[1;32m   1359\u001b[0m     \u001b[0;32mif\u001b[0m \u001b[0mhandle\u001b[0m \u001b[0;32mis\u001b[0m \u001b[0;32mNone\u001b[0m\u001b[0;34m:\u001b[0m\u001b[0;34m\u001b[0m\u001b[0m\n\u001b[1;32m   1360\u001b[0m       return self._do_call(_run_fn, feeds, fetches, targets, options,\n\u001b[0;32m-> 1361\u001b[0;31m                            run_metadata)\n\u001b[0m\u001b[1;32m   1362\u001b[0m     \u001b[0;32melse\u001b[0m\u001b[0;34m:\u001b[0m\u001b[0;34m\u001b[0m\u001b[0m\n\u001b[1;32m   1363\u001b[0m       \u001b[0;32mreturn\u001b[0m \u001b[0mself\u001b[0m\u001b[0;34m.\u001b[0m\u001b[0m_do_call\u001b[0m\u001b[0;34m(\u001b[0m\u001b[0m_prun_fn\u001b[0m\u001b[0;34m,\u001b[0m \u001b[0mhandle\u001b[0m\u001b[0;34m,\u001b[0m \u001b[0mfeeds\u001b[0m\u001b[0;34m,\u001b[0m \u001b[0mfetches\u001b[0m\u001b[0;34m)\u001b[0m\u001b[0;34m\u001b[0m\u001b[0m\n",
      "\u001b[0;32m~/ENVs/ar-models/lib/python3.6/site-packages/tensorflow_core/python/client/session.py\u001b[0m in \u001b[0;36m_do_call\u001b[0;34m(self, fn, *args)\u001b[0m\n\u001b[1;32m   1365\u001b[0m   \u001b[0;32mdef\u001b[0m \u001b[0m_do_call\u001b[0m\u001b[0;34m(\u001b[0m\u001b[0mself\u001b[0m\u001b[0;34m,\u001b[0m \u001b[0mfn\u001b[0m\u001b[0;34m,\u001b[0m \u001b[0;34m*\u001b[0m\u001b[0margs\u001b[0m\u001b[0;34m)\u001b[0m\u001b[0;34m:\u001b[0m\u001b[0;34m\u001b[0m\u001b[0m\n\u001b[1;32m   1366\u001b[0m     \u001b[0;32mtry\u001b[0m\u001b[0;34m:\u001b[0m\u001b[0;34m\u001b[0m\u001b[0m\n\u001b[0;32m-> 1367\u001b[0;31m       \u001b[0;32mreturn\u001b[0m \u001b[0mfn\u001b[0m\u001b[0;34m(\u001b[0m\u001b[0;34m*\u001b[0m\u001b[0margs\u001b[0m\u001b[0;34m)\u001b[0m\u001b[0;34m\u001b[0m\u001b[0m\n\u001b[0m\u001b[1;32m   1368\u001b[0m     \u001b[0;32mexcept\u001b[0m \u001b[0merrors\u001b[0m\u001b[0;34m.\u001b[0m\u001b[0mOpError\u001b[0m \u001b[0;32mas\u001b[0m \u001b[0me\u001b[0m\u001b[0;34m:\u001b[0m\u001b[0;34m\u001b[0m\u001b[0m\n\u001b[1;32m   1369\u001b[0m       \u001b[0mmessage\u001b[0m \u001b[0;34m=\u001b[0m \u001b[0mcompat\u001b[0m\u001b[0;34m.\u001b[0m\u001b[0mas_text\u001b[0m\u001b[0;34m(\u001b[0m\u001b[0me\u001b[0m\u001b[0;34m.\u001b[0m\u001b[0mmessage\u001b[0m\u001b[0;34m)\u001b[0m\u001b[0;34m\u001b[0m\u001b[0m\n",
      "\u001b[0;32m~/ENVs/ar-models/lib/python3.6/site-packages/tensorflow_core/python/client/session.py\u001b[0m in \u001b[0;36m_run_fn\u001b[0;34m(feed_dict, fetch_list, target_list, options, run_metadata)\u001b[0m\n\u001b[1;32m   1350\u001b[0m       \u001b[0mself\u001b[0m\u001b[0;34m.\u001b[0m\u001b[0m_extend_graph\u001b[0m\u001b[0;34m(\u001b[0m\u001b[0;34m)\u001b[0m\u001b[0;34m\u001b[0m\u001b[0m\n\u001b[1;32m   1351\u001b[0m       return self._call_tf_sessionrun(options, feed_dict, fetch_list,\n\u001b[0;32m-> 1352\u001b[0;31m                                       target_list, run_metadata)\n\u001b[0m\u001b[1;32m   1353\u001b[0m \u001b[0;34m\u001b[0m\u001b[0m\n\u001b[1;32m   1354\u001b[0m     \u001b[0;32mdef\u001b[0m \u001b[0m_prun_fn\u001b[0m\u001b[0;34m(\u001b[0m\u001b[0mhandle\u001b[0m\u001b[0;34m,\u001b[0m \u001b[0mfeed_dict\u001b[0m\u001b[0;34m,\u001b[0m \u001b[0mfetch_list\u001b[0m\u001b[0;34m)\u001b[0m\u001b[0;34m:\u001b[0m\u001b[0;34m\u001b[0m\u001b[0m\n",
      "\u001b[0;32m~/ENVs/ar-models/lib/python3.6/site-packages/tensorflow_core/python/client/session.py\u001b[0m in \u001b[0;36m_call_tf_sessionrun\u001b[0;34m(self, options, feed_dict, fetch_list, target_list, run_metadata)\u001b[0m\n\u001b[1;32m   1443\u001b[0m     return tf_session.TF_SessionRun_wrapper(self._session, options, feed_dict,\n\u001b[1;32m   1444\u001b[0m                                             \u001b[0mfetch_list\u001b[0m\u001b[0;34m,\u001b[0m \u001b[0mtarget_list\u001b[0m\u001b[0;34m,\u001b[0m\u001b[0;34m\u001b[0m\u001b[0m\n\u001b[0;32m-> 1445\u001b[0;31m                                             run_metadata)\n\u001b[0m\u001b[1;32m   1446\u001b[0m \u001b[0;34m\u001b[0m\u001b[0m\n\u001b[1;32m   1447\u001b[0m   \u001b[0;32mdef\u001b[0m \u001b[0m_call_tf_sessionprun\u001b[0m\u001b[0;34m(\u001b[0m\u001b[0mself\u001b[0m\u001b[0;34m,\u001b[0m \u001b[0mhandle\u001b[0m\u001b[0;34m,\u001b[0m \u001b[0mfeed_dict\u001b[0m\u001b[0;34m,\u001b[0m \u001b[0mfetch_list\u001b[0m\u001b[0;34m)\u001b[0m\u001b[0;34m:\u001b[0m\u001b[0;34m\u001b[0m\u001b[0m\n",
      "\u001b[0;31mKeyboardInterrupt\u001b[0m: "
     ]
    }
   ],
   "source": [
    "tpr, fpr, accuracy, val, val_std, far, frr = evaluate_fp(ff_path, fp_path, fp_fold_files, ff_mapping_file, fp_mapping_file)"
   ]
  },
  {
   "cell_type": "code",
   "execution_count": 44,
   "metadata": {},
   "outputs": [
    {
     "data": {
      "text/plain": [
       "array([0.96571429, 0.96258993, 0.93285714, 0.95571429, 0.93848355,\n",
       "       0.94714286, 0.93830703, 0.95851216, 0.94714286, 0.96285714])"
      ]
     },
     "execution_count": 44,
     "metadata": {},
     "output_type": "execute_result"
    }
   ],
   "source": [
    "accuracy"
   ]
  },
  {
   "cell_type": "code",
   "execution_count": 45,
   "metadata": {},
   "outputs": [
    {
     "data": {
      "text/plain": [
       "0.9509321237769756"
      ]
     },
     "execution_count": 45,
     "metadata": {},
     "output_type": "execute_result"
    }
   ],
   "source": [
    "accuracy.mean()"
   ]
  },
  {
   "cell_type": "code",
   "execution_count": 168,
   "metadata": {},
   "outputs": [],
   "source": [
    "tpr, fpr, accuracy, val, val_std, far, frr"
   ]
  },
  {
   "cell_type": "code",
   "execution_count": null,
   "metadata": {},
   "outputs": [],
   "source": [
    "thresholds = np.arange(0, 4, 0.01)\n",
    "tpr, fpr, accuracy = calculate_roc(thresholds, folds, issame_folds)\n",
    "tpr, fpr, accuracy"
   ]
  },
  {
   "cell_type": "code",
   "execution_count": 169,
   "metadata": {},
   "outputs": [],
   "source": [
    "thresholds = np.arange(0, 4, 0.001)\n",
    "val_mean, far_mean, frr_mean, val_std = calculate_val(thresholds, folds, issame_folds, far_target=1e-3)"
   ]
  },
  {
   "cell_type": "code",
   "execution_count": 167,
   "metadata": {},
   "outputs": [
    {
     "data": {
      "text/plain": [
       "(0.9433649742304933,\n",
       " 0.056635025769506596,\n",
       " 0.020170727168863183,\n",
       " 0.001142857142857143)"
      ]
     },
     "execution_count": 167,
     "metadata": {},
     "output_type": "execute_result"
    }
   ],
   "source": [
    "val_mean, val_std, far_mean, frr_mean"
   ]
  },
  {
   "cell_type": "code",
   "execution_count": null,
   "metadata": {},
   "outputs": [],
   "source": []
  },
  {
   "cell_type": "code",
   "execution_count": 149,
   "metadata": {},
   "outputs": [
    {
     "data": {
      "text/plain": [
       "(400,)"
      ]
     },
     "execution_count": 149,
     "metadata": {},
     "output_type": "execute_result"
    }
   ],
   "source": [
    "def calculate_val(thresholds, embeddings1, embeddings2, actual_issame, far_target, n_folds=10, subtract_mean=False):\n",
    "    assert(embeddings1.shape[0] == embeddings2.shape[0])\n",
    "    assert(embeddings1.shape[1] == embeddings2.shape[1])\n",
    "    nrof_pairs = min(len(actual_issame), embeddings1.shape[0])\n",
    "    nrof_thresholds = len(thresholds)\n",
    "    k_fold = KFold(n_splits=n_folds, shuffle=False)\n",
    "    \n",
    "    val = np.zeros(n_folds)\n",
    "    far = np.zeros(n_folds)\n",
    "    frr = np.zeros(n_folds)\n",
    "    \n",
    "    indices = np.arange(nrof_pairs)\n",
    "    \n",
    "    for fold_idx, (train_set, test_set) in enumerate(k_fold.split(indices)):\n",
    "        if subtract_mean:\n",
    "            mean = np.mean(np.concatenate([embeddings1[train_set], embeddings2[train_set]]), axis=0)\n",
    "        else:\n",
    "            mean = 0.0\n",
    "        dist = distance(embeddings1-mean, embeddings2-mean)\n",
    "      \n",
    "        # Find the threshold that gives FAR = far_target\n",
    "        far_train = np.zeros(nrof_thresholds)\n",
    "        for threshold_idx, threshold in enumerate(thresholds):\n",
    "            _, far_train[threshold_idx], _ = calculate_val_far_frr(threshold, dist[train_set], actual_issame[train_set])\n",
    "        if np.max(far_train)>=far_target:\n",
    "            f = interpolate.interp1d(far_train, thresholds, kind='slinear')\n",
    "            threshold = f(far_target)\n",
    "        else:\n",
    "            threshold = 0.0\n",
    "    \n",
    "        val[fold_idx], far[fold_idx], frr[fold_idx] = calculate_val_far_frr(threshold, dist[test_set], actual_issame[test_set])\n",
    "  \n",
    "    val_mean = np.mean(val)\n",
    "    far_mean = np.mean(far)\n",
    "    frr_mean = np.mean(frr)\n",
    "    val_std = np.std(val)\n",
    "    return val_mean, val_std, far_mean, frr_mean"
   ]
  },
  {
   "cell_type": "code",
   "execution_count": 86,
   "metadata": {},
   "outputs": [
    {
     "data": {
      "text/plain": [
       "((2788, 512), (1400, 512))"
      ]
     },
     "execution_count": 86,
     "metadata": {},
     "output_type": "execute_result"
    }
   ],
   "source": [
    "embs_train.shape, embs_eval.shape"
   ]
  },
  {
   "cell_type": "code",
   "execution_count": null,
   "metadata": {},
   "outputs": [],
   "source": []
  },
  {
   "cell_type": "code",
   "execution_count": 87,
   "metadata": {},
   "outputs": [],
   "source": []
  },
  {
   "cell_type": "code",
   "execution_count": 88,
   "metadata": {},
   "outputs": [
    {
     "data": {
      "text/plain": [
       "((1394, 512), (1394, 512), (1394,))"
      ]
     },
     "execution_count": 88,
     "metadata": {},
     "output_type": "execute_result"
    }
   ],
   "source": [
    "embeddings1 = embs_train[0::2]\n",
    "embeddings2 = embs_train[1::2]\n",
    "dist_train = distance(embeddings1, embeddings2)\n",
    "embeddings1.shape, embeddings2.shape, dist_train.shape"
   ]
  },
  {
   "cell_type": "code",
   "execution_count": 89,
   "metadata": {},
   "outputs": [],
   "source": [
    "n_thresholds = len(thresholds)"
   ]
  },
  {
   "cell_type": "code",
   "execution_count": 90,
   "metadata": {},
   "outputs": [
    {
     "data": {
      "text/plain": [
       "((700, 512), (700, 512), (700,))"
      ]
     },
     "execution_count": 90,
     "metadata": {},
     "output_type": "execute_result"
    }
   ],
   "source": [
    "embeddings1 = embs_eval[0::2]\n",
    "embeddings2 = embs_eval[1::2]\n",
    "dist_eval = distance(embeddings1, embeddings2)\n",
    "embeddings1.shape, embeddings2.shape, dist_eval.shape"
   ]
  },
  {
   "cell_type": "code",
   "execution_count": 91,
   "metadata": {},
   "outputs": [
    {
     "data": {
      "text/plain": [
       "(0.9928263988522238, 1.18)"
      ]
     },
     "execution_count": 91,
     "metadata": {},
     "output_type": "execute_result"
    }
   ],
   "source": [
    "# Find the best threshold for the fold\n",
    "acc_train = np.zeros((n_thresholds))\n",
    "for threshold_idx, threshold in enumerate(thresholds):\n",
    "    _, _, acc_train[threshold_idx] = calculate_accuracy(threshold, dist_train, train_same_list)\n",
    "best_threshold_idx = np.argmax(acc_train)\n",
    "\n",
    "acc_train[best_threshold_idx], thresholds[best_threshold_idx]"
   ]
  },
  {
   "cell_type": "code",
   "execution_count": null,
   "metadata": {},
   "outputs": [],
   "source": []
  },
  {
   "cell_type": "code",
   "execution_count": 92,
   "metadata": {},
   "outputs": [
    {
     "name": "stdout",
     "output_type": "stream",
     "text": [
      "Best threshold for fold 0: 1.180000\n"
     ]
    }
   ],
   "source": [
    "tprs = np.zeros((n_folds, n_thresholds))\n",
    "fprs = np.zeros((n_folds, n_thresholds))\n",
    "accuracy = np.zeros((n_folds))\n",
    "    \n",
    "for threshold_idx, threshold in enumerate(thresholds):\n",
    "    tprs[fold_idx, threshold_idx], fprs[fold_idx, threshold_idx], _ = \\\n",
    "                    calculate_accuracy(threshold, dist_eval, eval_same_list)\n",
    "_, _, accuracy[fold_idx] = calculate_accuracy(thresholds[best_threshold_idx], dist_eval, eval_same_list)\n",
    "\n",
    "print('Best threshold for fold %d: %f' % (fold_idx, thresholds[best_threshold_idx]))\n",
    "tpr = np.mean(tprs, 0)\n",
    "fpr = np.mean(fprs, 0)"
   ]
  },
  {
   "cell_type": "code",
   "execution_count": 94,
   "metadata": {},
   "outputs": [
    {
     "data": {
      "text/plain": [
       "array([0.99, 0.  , 0.  ])"
      ]
     },
     "execution_count": 94,
     "metadata": {},
     "output_type": "execute_result"
    }
   ],
   "source": [
    "accuracy"
   ]
  },
  {
   "cell_type": "code",
   "execution_count": 40,
   "metadata": {},
   "outputs": [],
   "source": [
    "def to_rgb(img):\n",
    "    if len(img.shape) == 2:\n",
    "        img = np.expand_dims(img, axis=-1)\n",
    "        \n",
    "    w, h, c = img.shape\n",
    "    if c == 1:\n",
    "        rgb = np.empty((w, h, 3), dtype=np.uint8)\n",
    "        rgb[:, :, 0] = rgb[:, :, 1] = rgb[:, :, 2] = img.squeeze()\n",
    "    elif c > 3:\n",
    "        rgb = img[:, :, 0:3]\n",
    "    else:\n",
    "        rgb = img\n",
    "        \n",
    "    return rgb\n",
    "\n",
    "def read_rgb(path):\n",
    "    image = np.asarray(Image.open(path).convert('RGB'))\n",
    "    return image"
   ]
  },
  {
   "cell_type": "code",
   "execution_count": 37,
   "metadata": {},
   "outputs": [],
   "source": [
    "f = '/home/cocoza4/datasets/cfp_profile/391/04.jpg'"
   ]
  },
  {
   "cell_type": "code",
   "execution_count": 46,
   "metadata": {},
   "outputs": [
    {
     "data": {
      "text/plain": [
       "(112, 112, 3)"
      ]
     },
     "execution_count": 46,
     "metadata": {},
     "output_type": "execute_result"
    }
   ],
   "source": [
    "im = np.asarray(Image.open(f).convert('RGB'))\n",
    "im.shape"
   ]
  },
  {
   "cell_type": "code",
   "execution_count": 47,
   "metadata": {},
   "outputs": [
    {
     "data": {
      "text/plain": [
       "array([[[-0.92578125, -0.97265625, -0.97265625],\n",
       "        [-0.91796875, -0.96484375, -0.96484375],\n",
       "        [-0.91015625, -0.94921875, -0.97265625],\n",
       "        ...,\n",
       "        [-0.75390625, -0.87890625, -0.98046875],\n",
       "        [-0.74609375, -0.87109375, -0.97265625],\n",
       "        [-0.74609375, -0.87109375, -0.97265625]],\n",
       "\n",
       "       [[-0.91796875, -0.96484375, -0.96484375],\n",
       "        [-0.92578125, -0.97265625, -0.97265625],\n",
       "        [-0.93359375, -0.97265625, -0.99609375],\n",
       "        ...,\n",
       "        [-0.74609375, -0.87109375, -0.97265625],\n",
       "        [-0.74609375, -0.87109375, -0.97265625],\n",
       "        [-0.74609375, -0.87109375, -0.97265625]],\n",
       "\n",
       "       [[-0.91796875, -0.95703125, -0.98046875],\n",
       "        [-0.92578125, -0.96484375, -0.98828125],\n",
       "        [-0.92578125, -0.96484375, -0.98828125],\n",
       "        ...,\n",
       "        [-0.74609375, -0.87109375, -0.97265625],\n",
       "        [-0.73828125, -0.86328125, -0.96484375],\n",
       "        [-0.73828125, -0.86328125, -0.96484375]],\n",
       "\n",
       "       ...,\n",
       "\n",
       "       [[ 0.94921875,  0.84765625,  0.77734375],\n",
       "        [ 0.93359375,  0.83203125,  0.76171875],\n",
       "        [ 0.94140625,  0.83984375,  0.76953125],\n",
       "        ...,\n",
       "        [ 0.72265625,  0.64453125,  0.55078125],\n",
       "        [ 0.71484375,  0.63671875,  0.54296875],\n",
       "        [ 0.70703125,  0.62890625,  0.53515625]],\n",
       "\n",
       "       [[ 0.98046875,  0.87890625,  0.80859375],\n",
       "        [ 0.95703125,  0.85546875,  0.78515625],\n",
       "        [ 0.94921875,  0.84765625,  0.77734375],\n",
       "        ...,\n",
       "        [ 0.69140625,  0.62109375,  0.50390625],\n",
       "        [ 0.67578125,  0.60546875,  0.48828125],\n",
       "        [ 0.66015625,  0.58984375,  0.47265625]],\n",
       "\n",
       "       [[ 0.99609375,  0.91015625,  0.83984375],\n",
       "        [ 0.97265625,  0.87109375,  0.80078125],\n",
       "        [ 0.95703125,  0.85546875,  0.78515625],\n",
       "        ...,\n",
       "        [ 0.72265625,  0.65234375,  0.53515625],\n",
       "        [ 0.69140625,  0.62109375,  0.50390625],\n",
       "        [ 0.68359375,  0.61328125,  0.49609375]]])"
      ]
     },
     "execution_count": 47,
     "metadata": {},
     "output_type": "execute_result"
    }
   ],
   "source": [
    "img = (im - 127.5) * 0.0078125\n",
    "img"
   ]
  },
  {
   "cell_type": "code",
   "execution_count": 48,
   "metadata": {},
   "outputs": [
    {
     "name": "stderr",
     "output_type": "stream",
     "text": [
      "WARNING: Logging before flag parsing goes to stderr.\n",
      "W0418 20:59:49.789235 140344586651456 image.py:700] Clipping input data to the valid range for imshow with RGB data ([0..1] for floats or [0..255] for integers).\n"
     ]
    },
    {
     "data": {
      "text/plain": [
       "<matplotlib.image.AxesImage at 0x7fa3ea284cf8>"
      ]
     },
     "execution_count": 48,
     "metadata": {},
     "output_type": "execute_result"
    },
    {
     "data": {
      "image/png": "[encoded data removed]",
      "text/plain": [
       "<Figure size 432x288 with 1 Axes>"
      ]
     },
     "metadata": {
      "needs_background": "light"
     },
     "output_type": "display_data"
    }
   ],
   "source": [
    "plt.imshow(img)"
   ]
  },
  {
   "cell_type": "code",
   "execution_count": 128,
   "metadata": {},
   "outputs": [
    {
     "name": "stdout",
     "output_type": "stream",
     "text": [
      "(112, 112, 3)\n"
     ]
    },
    {
     "data": {
      "text/plain": [
       "<matplotlib.image.AxesImage at 0x7f0b7c692b00>"
      ]
     },
     "execution_count": 128,
     "metadata": {},
     "output_type": "execute_result"
    },
    {
     "data": {
      "image/png": "[encoded data removed]",
      "text/plain": [
       "<Figure size 432x288 with 1 Axes>"
      ]
     },
     "metadata": {
      "needs_background": "light"
     },
     "output_type": "display_data"
    }
   ],
   "source": [
    "f = '/home/cocoza4/datasets/cfp_profile/391/04.jpg'\n",
    "img = np.asarray(Image.open(f))\n",
    "print(img.shape)\n",
    "# print(np.expand_dims(img, axis=-1).shape)\n",
    "img = to_rgb(img)\n",
    "# print(img.shape)\n",
    "plt.imshow(img)"
   ]
  },
  {
   "cell_type": "code",
   "execution_count": 67,
   "metadata": {},
   "outputs": [
    {
     "data": {
      "text/plain": [
       "3"
      ]
     },
     "execution_count": 67,
     "metadata": {},
     "output_type": "execute_result"
    }
   ],
   "source": [
    "ret = to_rgb(img)\n",
    "ret.ndim"
   ]
  },
  {
   "cell_type": "code",
   "execution_count": 51,
   "metadata": {},
   "outputs": [
    {
     "data": {
      "text/plain": [
       "True"
      ]
     },
     "execution_count": 51,
     "metadata": {},
     "output_type": "execute_result"
    }
   ],
   "source": [
    "tf.is_tensor(image)"
   ]
  },
  {
   "cell_type": "code",
   "execution_count": 96,
   "metadata": {},
   "outputs": [
    {
     "name": "stdout",
     "output_type": "stream",
     "text": [
      "(112, 112, 1)\n"
     ]
    }
   ],
   "source": [
    "raw = tf.io.read_file(f)\n",
    "image = tf.image.decode_image(raw)\n",
    "w, h, c = image.shape\n",
    "# print(image.shape)\n",
    "# if c > 3 or c == 1:\n",
    "#     image = to_rgb(image.numpy())\n",
    "print(image.shape)\n",
    "# plt.imshow(image)"
   ]
  },
  {
   "cell_type": "code",
   "execution_count": 132,
   "metadata": {},
   "outputs": [
    {
     "data": {
      "text/plain": [
       "(112, 112, 4)"
      ]
     },
     "execution_count": 132,
     "metadata": {},
     "output_type": "execute_result"
    }
   ],
   "source": [
    "ret = np.empty((w, h, 4), dtype=np.uint8)\n",
    "ret[:, :, 0] = ret[:, :, 1] = ret[:, :, 2] = ret[:, :, 3] = image.numpy().squeeze()\n",
    "ret.shape"
   ]
  },
  {
   "cell_type": "code",
   "execution_count": 133,
   "metadata": {},
   "outputs": [
    {
     "data": {
      "text/plain": [
       "<matplotlib.image.AxesImage at 0x7f0b585e7940>"
      ]
     },
     "execution_count": 133,
     "metadata": {},
     "output_type": "execute_result"
    },
    {
     "data": {
      "image/png": "[encoded data removed]",
      "text/plain": [
       "<Figure size 432x288 with 1 Axes>"
      ]
     },
     "metadata": {
      "needs_background": "light"
     },
     "output_type": "display_data"
    }
   ],
   "source": [
    "plt.imshow(to_rgb(ret))"
   ]
  },
  {
   "cell_type": "code",
   "execution_count": 85,
   "metadata": {},
   "outputs": [
    {
     "data": {
      "text/plain": [
       "<tf.Tensor: shape=(2, 4), dtype=float64, numpy=\n",
       "array([[0.18257419, 0.36514837, 0.54772256, 0.73029674],\n",
       "       [0.18257419, 0.36514837, 0.54772256, 0.73029674]])>"
      ]
     },
     "execution_count": 85,
     "metadata": {},
     "output_type": "execute_result"
    }
   ],
   "source": [
    "a = np.array([[1, 2, 3, 4], [1, 2, 3, 4]], dtype='float')\n",
    "tf.nn.l2_normalize(a, axis=1)"
   ]
  },
  {
   "cell_type": "code",
   "execution_count": 88,
   "metadata": {},
   "outputs": [
    {
     "data": {
      "text/plain": [
       "<tf.Tensor: shape=(2, 4), dtype=float64, numpy=\n",
       "array([[0.18257419, 0.36514837, 0.54772256, 0.73029674],\n",
       "       [0.18257419, 0.36514837, 0.54772256, 0.73029674]])>"
      ]
     },
     "execution_count": 88,
     "metadata": {},
     "output_type": "execute_result"
    }
   ],
   "source": [
    "tf.nn.l2_normalize(a, axis=-1)"
   ]
  },
  {
   "cell_type": "code",
   "execution_count": 34,
   "metadata": {},
   "outputs": [
    {
     "name": "stdout",
     "output_type": "stream",
     "text": [
      "(112, 112, 3)\n"
     ]
    },
    {
     "data": {
      "text/plain": [
       "<matplotlib.image.AxesImage at 0x7f0b94376e48>"
      ]
     },
     "execution_count": 34,
     "metadata": {},
     "output_type": "execute_result"
    },
    {
     "data": {
      "image/png": "[encoded data removed]",
      "text/plain": [
       "<Figure size 432x288 with 1 Axes>"
      ]
     },
     "metadata": {
      "needs_background": "light"
     },
     "output_type": "display_data"
    }
   ],
   "source": [
    "ret = np.empty((w, h, 3), dtype=np.uint8)\n",
    "print(ret.shape)\n",
    "ret[:, :, 0] = ret[:, :, 1] = ret[:, :, 2] = image\n",
    "plt.imshow(ret)"
   ]
  },
  {
   "cell_type": "code",
   "execution_count": 93,
   "metadata": {},
   "outputs": [
    {
     "data": {
      "text/plain": [
       "(112, 112, 3)"
      ]
     },
     "execution_count": 93,
     "metadata": {},
     "output_type": "execute_result"
    }
   ],
   "source": [
    "image.squeeze().shape"
   ]
  },
  {
   "cell_type": "code",
   "execution_count": null,
   "metadata": {},
   "outputs": [],
   "source": []
  }
 ],
 "metadata": {
  "kernelspec": {
   "display_name": "ar-models",
   "language": "python",
   "name": "ar-models"
  },
  "language_info": {
   "codemirror_mode": {
    "name": "ipython",
    "version": 3
   },
   "file_extension": ".py",
   "mimetype": "text/x-python",
   "name": "python",
   "nbconvert_exporter": "python",
   "pygments_lexer": "ipython3",
   "version": "3.6.5"
  }
 },
 "nbformat": 4,
 "nbformat_minor": 4
}
