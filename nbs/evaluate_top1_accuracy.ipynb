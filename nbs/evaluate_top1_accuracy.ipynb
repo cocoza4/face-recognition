{
 "cells": [
  {
   "cell_type": "code",
   "execution_count": 50,
   "metadata": {},
   "outputs": [
    {
     "data": {
      "text/plain": [
       "'2.1.0'"
      ]
     },
     "execution_count": 50,
     "metadata": {},
     "output_type": "execute_result"
    }
   ],
   "source": [
    "import os\n",
    "import sys\n",
    "sys.path.append('../src')\n",
    "\n",
    "import numpy as np\n",
    "import pandas as pd\n",
    "import tensorflow as tf\n",
    "from PIL import Image\n",
    "from pathlib import Path\n",
    "\n",
    "from tqdm.auto import tqdm\n",
    "\n",
    "import matplotlib.pyplot as plt\n",
    "\n",
    "import utils\n",
    "\n",
    "seed = 1234\n",
    "np.random.seed(seed)\n",
    "\n",
    "tf.__version__"
   ]
  },
  {
   "cell_type": "code",
   "execution_count": null,
   "metadata": {},
   "outputs": [],
   "source": []
  },
  {
   "cell_type": "code",
   "execution_count": 17,
   "metadata": {},
   "outputs": [],
   "source": [
    "input_signature = 'serving_default'\n",
    "output_signature = 'embeddings'\n",
    "embedding_size = 512\n",
    "batch_size = 256\n",
    "\n",
    "model_path = '/home/peeranat_absoroute_io/trained_models/exports/arcface_resnet34'\n",
    "\n",
    "lfw_n_folds = 10\n",
    "lfw_pairs = '/mnt/disks/data/sirius/datasets/lfw-deepfunneled_mtcnnpy_112_margin32/pairs.txt'\n",
    "lfw_dir = Path('/mnt/disks/data/sirius/datasets/lfw-deepfunneled_mtcnnpy_112_margin32')\n",
    "\n",
    "asr_dir = Path('/mnt/disks/data/sirius/datasets/asr_dataset_mtcnnpy_112_margin32')\n"
   ]
  },
  {
   "cell_type": "code",
   "execution_count": null,
   "metadata": {},
   "outputs": [],
   "source": []
  },
  {
   "cell_type": "code",
   "execution_count": 5,
   "metadata": {},
   "outputs": [],
   "source": [
    "def preprocess(path):\n",
    "    rgb = utils.read_rgb(path)\n",
    "    img = (rgb - 127.5) * 0.0078125\n",
    "    return img\n",
    "\n",
    "\n",
    "def pred_batch_fn(inputs):\n",
    "    preprocessed = tf.cast([preprocess(path) for path in inputs], tf.float32)\n",
    "    return pred_fn(preprocessed)[output_signature]"
   ]
  },
  {
   "cell_type": "code",
   "execution_count": null,
   "metadata": {},
   "outputs": [],
   "source": []
  },
  {
   "cell_type": "code",
   "execution_count": 4,
   "metadata": {},
   "outputs": [],
   "source": [
    "model = tf.saved_model.load(model_path)\n",
    "pred_fn = model.signatures[input_signature]"
   ]
  },
  {
   "cell_type": "code",
   "execution_count": null,
   "metadata": {},
   "outputs": [],
   "source": []
  },
  {
   "cell_type": "code",
   "execution_count": null,
   "metadata": {},
   "outputs": [],
   "source": [
    "candidates = []"
   ]
  },
  {
   "cell_type": "code",
   "execution_count": 40,
   "metadata": {},
   "outputs": [
    {
     "data": {
      "text/plain": [
       "5"
      ]
     },
     "execution_count": 40,
     "metadata": {},
     "output_type": "execute_result"
    }
   ],
   "source": [
    "np.random.randint(0, 10)"
   ]
  },
  {
   "cell_type": "code",
   "execution_count": 42,
   "metadata": {},
   "outputs": [
    {
     "data": {
      "text/plain": [
       "['0.png', '1.png']"
      ]
     },
     "execution_count": 42,
     "metadata": {},
     "output_type": "execute_result"
    }
   ],
   "source": [
    "os.listdir('/mnt/disks/data/sirius/datasets/asr_dataset_mtcnnpy_112_margin32/Ad_Carabao')"
   ]
  },
  {
   "cell_type": "code",
   "execution_count": 53,
   "metadata": {},
   "outputs": [],
   "source": [
    "def select_candidates(path):\n",
    "    selected = []\n",
    "    for p in path.glob('*'):\n",
    "        if not p.is_file():\n",
    "            \n",
    "            files = list(p.glob('*'))\n",
    "            n = np.random.randint(0, len(files))\n",
    "            selected.append(files[n])\n",
    "    \n",
    "    np.random.shuffle(selected)\n",
    "    return selected\n",
    "            "
   ]
  },
  {
   "cell_type": "code",
   "execution_count": 83,
   "metadata": {},
   "outputs": [
    {
     "data": {
      "text/plain": [
       "60"
      ]
     },
     "execution_count": 83,
     "metadata": {},
     "output_type": "execute_result"
    }
   ],
   "source": [
    "pairs1 = select_candidates(asr_dir)\n",
    "len(pairs1)"
   ]
  },
  {
   "cell_type": "code",
   "execution_count": 84,
   "metadata": {},
   "outputs": [
    {
     "data": {
      "text/plain": [
       "{'Coco': '0.png',\n",
       " 'Aun_son': '1.png',\n",
       " 'Pancake': '0.png',\n",
       " 'Bella': '1.png',\n",
       " 'Prayut_Chan-o-cha': '1.png',\n",
       " 'Sunny': '1.png',\n",
       " 'Jiso_Blackpink': '0.png',\n",
       " 'Ritchie': '0.png',\n",
       " 'Kimberly': '0.png',\n",
       " 'Ad_Carabao': '0.png',\n",
       " 'Ter': '0.png',\n",
       " 'Champ': '0.png',\n",
       " 'Jameji': '0.png',\n",
       " 'Yaya': '1.png',\n",
       " 'Sek_Loso': '0.png',\n",
       " 'Tim_Pita': '0.png',\n",
       " 'Clara_Lee': '0.png',\n",
       " 'Tae_bro': '1.png',\n",
       " 'Thaksin': '0.png',\n",
       " 'Anutin': '0.png',\n",
       " 'Mao_Buyi': '1.png',\n",
       " 'Mai_Davika': '1.png',\n",
       " 'Woonsen': '1.png',\n",
       " 'Chor': '1.png',\n",
       " 'Ananda': '1.png',\n",
       " 'Ken_Theeradet': '0.png',\n",
       " 'Aun': '5.png',\n",
       " 'Chakrit': '1.png',\n",
       " 'Pom_Pravit': '1.png',\n",
       " 'Tae': '1.png',\n",
       " 'Aum_Patcharapa': '0.png',\n",
       " 'Jane_Zhang': '1.png',\n",
       " 'Nancy_Momoland': '1.png',\n",
       " 'Yoshi': '4.png',\n",
       " 'Woodie': '1.png',\n",
       " 'Thanatorn': '1.png',\n",
       " 'Cheer_Thikamporn': '1.png',\n",
       " 'Suthep': '0.png',\n",
       " 'Yingluck': '1.png',\n",
       " 'Wier': '0.png',\n",
       " 'Ood_Pentor': '0.png',\n",
       " 'Lisa_Blackpink': '0.png',\n",
       " 'Nadej': '0.png',\n",
       " 'Dilraba_Dilmurat': '1.png',\n",
       " 'Kim_Hee_Sun': '0.png',\n",
       " 'Mario': '0.png',\n",
       " 'Chatchart': '1.png',\n",
       " 'Liu_Yifei': '0.png',\n",
       " 'Abhisit': '0.png',\n",
       " 'Andy_Lau': '0.png',\n",
       " 'Jay_Chou': '0.png',\n",
       " 'Willie': '1.png',\n",
       " 'Kitty_Zhang': '1.png',\n",
       " 'Noi_Sudarat': '1.png',\n",
       " 'Kobe_Bryant': '1.png',\n",
       " 'Junji': '0.png',\n",
       " 'Wok_Pentor': '1.png',\n",
       " 'Fan_Bingbing': '0.png',\n",
       " 'Yom_Pentor': '1.png',\n",
       " 'Piyabutr': '0.png'}"
      ]
     },
     "execution_count": 84,
     "metadata": {},
     "output_type": "execute_result"
    }
   ],
   "source": [
    "registered = {item.parent.name: item.name for item in pairs1}\n",
    "registered"
   ]
  },
  {
   "cell_type": "code",
   "execution_count": null,
   "metadata": {},
   "outputs": [],
   "source": []
  },
  {
   "cell_type": "code",
   "execution_count": 86,
   "metadata": {},
   "outputs": [],
   "source": [
    "def predict_embeddings(images):\n",
    "    n_images = len(images)\n",
    "    embs_array = np.zeros((n_images, embedding_size))\n",
    "\n",
    "    it = tqdm(range(0, n_images, batch_size), 'Predict face embeddings')\n",
    "    for start in it:\n",
    "        end = start + batch_size\n",
    "        embs_array[start:end] = pred_batch_fn(images[start:end])\n",
    "        \n",
    "    return embs_array"
   ]
  },
  {
   "cell_type": "code",
   "execution_count": 85,
   "metadata": {},
   "outputs": [],
   "source": []
  },
  {
   "cell_type": "code",
   "execution_count": 87,
   "metadata": {},
   "outputs": [
    {
     "data": {
      "application/vnd.jupyter.widget-view+json": {
       "model_id": "3255ffe074b64f7a88bec47d91080067",
       "version_major": 2,
       "version_minor": 0
      },
      "text/plain": [
       "HBox(children=(FloatProgress(value=0.0, description='Predict face embeddings', max=1.0, style=ProgressStyle(de…"
      ]
     },
     "metadata": {},
     "output_type": "display_data"
    },
    {
     "name": "stdout",
     "output_type": "stream",
     "text": [
      "\n"
     ]
    }
   ],
   "source": [
    "pairs1_embs = predict_embeddings(pairs1)"
   ]
  },
  {
   "cell_type": "code",
   "execution_count": 88,
   "metadata": {},
   "outputs": [
    {
     "data": {
      "text/plain": [
       "array([[ 0.00943056, -0.01117769, -0.12749901, ..., -0.01811651,\n",
       "        -0.0301436 ,  0.0583836 ],\n",
       "       [-0.02183944,  0.00440063, -0.01023856, ...,  0.03284971,\n",
       "         0.053158  ,  0.01166619],\n",
       "       [-0.04462344, -0.02889526, -0.03491368, ...,  0.07495308,\n",
       "        -0.038265  , -0.10092377],\n",
       "       ...,\n",
       "       [-0.05544491,  0.00418517, -0.00195389, ..., -0.02630049,\n",
       "        -0.02006575, -0.02843592],\n",
       "       [-0.07489423,  0.06859683,  0.00205639, ..., -0.00763002,\n",
       "         0.03115678, -0.00882565],\n",
       "       [ 0.0313982 , -0.01633876,  0.10467181, ...,  0.09235974,\n",
       "        -0.0898608 , -0.07092799]])"
      ]
     },
     "execution_count": 88,
     "metadata": {},
     "output_type": "execute_result"
    }
   ],
   "source": [
    "pairs1_embs"
   ]
  },
  {
   "cell_type": "code",
   "execution_count": null,
   "metadata": {},
   "outputs": [],
   "source": []
  },
  {
   "cell_type": "code",
   "execution_count": 89,
   "metadata": {},
   "outputs": [],
   "source": [
    "threshold = 1.57"
   ]
  },
  {
   "cell_type": "code",
   "execution_count": 108,
   "metadata": {},
   "outputs": [
    {
     "data": {
      "text/plain": [
       "[PosixPath('/mnt/disks/data/sirius/datasets/asr_dataset_mtcnnpy_112_margin32/Coco/0.png'),\n",
       " PosixPath('/mnt/disks/data/sirius/datasets/asr_dataset_mtcnnpy_112_margin32/Aun_son/1.png'),\n",
       " PosixPath('/mnt/disks/data/sirius/datasets/asr_dataset_mtcnnpy_112_margin32/Pancake/0.png'),\n",
       " PosixPath('/mnt/disks/data/sirius/datasets/asr_dataset_mtcnnpy_112_margin32/Bella/1.png'),\n",
       " PosixPath('/mnt/disks/data/sirius/datasets/asr_dataset_mtcnnpy_112_margin32/Prayut_Chan-o-cha/1.png'),\n",
       " PosixPath('/mnt/disks/data/sirius/datasets/asr_dataset_mtcnnpy_112_margin32/Sunny/1.png'),\n",
       " PosixPath('/mnt/disks/data/sirius/datasets/asr_dataset_mtcnnpy_112_margin32/Jiso_Blackpink/0.png'),\n",
       " PosixPath('/mnt/disks/data/sirius/datasets/asr_dataset_mtcnnpy_112_margin32/Ritchie/0.png'),\n",
       " PosixPath('/mnt/disks/data/sirius/datasets/asr_dataset_mtcnnpy_112_margin32/Kimberly/0.png'),\n",
       " PosixPath('/mnt/disks/data/sirius/datasets/asr_dataset_mtcnnpy_112_margin32/Ad_Carabao/0.png')]"
      ]
     },
     "execution_count": 108,
     "metadata": {},
     "output_type": "execute_result"
    }
   ],
   "source": [
    "pairs1[:10]"
   ]
  },
  {
   "cell_type": "code",
   "execution_count": 109,
   "metadata": {},
   "outputs": [],
   "source": [
    "\n",
    "def select_pairs2(pairs1):\n",
    "    selected = []\n",
    "    for p in pairs1:\n",
    "        parent = p.parent\n",
    "        items = [item for item in p.parent.glob('*') if p.name != item.name]\n",
    "        n = np.random.randint(0, len(items))\n",
    "        item = items[n]\n",
    "        selected.append(item)\n",
    "\n",
    "    return selected\n",
    "\n",
    "def distance(embeddings1, embeddings2):\n",
    "    diff = np.subtract(embeddings1, embeddings2)\n",
    "    dist = np.sum(np.square(diff), 1)\n",
    "    return dist"
   ]
  },
  {
   "cell_type": "code",
   "execution_count": 110,
   "metadata": {},
   "outputs": [],
   "source": [
    "pairs2 = select_pairs2(pairs1)"
   ]
  },
  {
   "cell_type": "code",
   "execution_count": 112,
   "metadata": {},
   "outputs": [
    {
     "data": {
      "text/plain": [
       "60"
      ]
     },
     "execution_count": 112,
     "metadata": {},
     "output_type": "execute_result"
    }
   ],
   "source": [
    "len(pairs2)"
   ]
  },
  {
   "cell_type": "code",
   "execution_count": 113,
   "metadata": {},
   "outputs": [
    {
     "data": {
      "application/vnd.jupyter.widget-view+json": {
       "model_id": "bb975ae95afd41ccb423e243e1d5985c",
       "version_major": 2,
       "version_minor": 0
      },
      "text/plain": [
       "HBox(children=(FloatProgress(value=0.0, description='Predict face embeddings', max=1.0, style=ProgressStyle(de…"
      ]
     },
     "metadata": {},
     "output_type": "display_data"
    },
    {
     "name": "stdout",
     "output_type": "stream",
     "text": [
      "\n"
     ]
    },
    {
     "data": {
      "text/plain": [
       "array([[ 0.04441927, -0.02061996, -0.10523365, ..., -0.0042569 ,\n",
       "        -0.04274129, -0.01048723],\n",
       "       [ 0.03643235,  0.03884813, -0.03063776, ..., -0.00361592,\n",
       "         0.01881082,  0.02707511],\n",
       "       [-0.10050879, -0.02270074,  0.00972277, ...,  0.09056913,\n",
       "        -0.01510516, -0.0004803 ],\n",
       "       ...,\n",
       "       [ 0.00634567,  0.0142382 ,  0.01422369, ..., -0.01947108,\n",
       "         0.04068901, -0.02314746],\n",
       "       [-0.02446369,  0.05635517, -0.02580905, ...,  0.00668326,\n",
       "         0.01751931, -0.02097135],\n",
       "       [ 0.02312256, -0.0374101 , -0.00774236, ...,  0.05085433,\n",
       "        -0.07977555, -0.0534717 ]])"
      ]
     },
     "execution_count": 113,
     "metadata": {},
     "output_type": "execute_result"
    }
   ],
   "source": [
    "pairs2_embs = predict_embeddings(pairs2)\n",
    "pairs2_embs"
   ]
  },
  {
   "cell_type": "code",
   "execution_count": null,
   "metadata": {},
   "outputs": [],
   "source": []
  },
  {
   "cell_type": "code",
   "execution_count": 131,
   "metadata": {},
   "outputs": [],
   "source": [
    "matched = []\n",
    "for idx1, emb1 in enumerate(pairs1_embs):\n",
    "#     for idx2, embs in enumerate(pairs2_embs):\n",
    "    dist = distance(emb1, pairs2_embs)\n",
    "    matched.append(dist.argmin() == idx1)\n",
    "    "
   ]
  },
  {
   "cell_type": "code",
   "execution_count": 134,
   "metadata": {},
   "outputs": [
    {
     "data": {
      "text/plain": [
       "[True,\n",
       " True,\n",
       " True,\n",
       " True,\n",
       " True,\n",
       " True,\n",
       " False,\n",
       " True,\n",
       " True,\n",
       " True,\n",
       " True,\n",
       " True,\n",
       " True,\n",
       " True,\n",
       " True,\n",
       " True,\n",
       " True,\n",
       " True,\n",
       " True,\n",
       " True,\n",
       " True,\n",
       " True,\n",
       " True,\n",
       " True,\n",
       " True,\n",
       " True,\n",
       " True,\n",
       " True,\n",
       " True,\n",
       " True,\n",
       " True,\n",
       " True,\n",
       " True,\n",
       " True,\n",
       " True,\n",
       " True,\n",
       " True,\n",
       " True,\n",
       " True,\n",
       " True,\n",
       " True,\n",
       " True,\n",
       " True,\n",
       " True,\n",
       " True,\n",
       " True,\n",
       " True,\n",
       " True,\n",
       " True,\n",
       " True,\n",
       " True,\n",
       " True,\n",
       " True,\n",
       " True,\n",
       " True,\n",
       " True,\n",
       " True,\n",
       " True,\n",
       " True,\n",
       " True]"
      ]
     },
     "execution_count": 134,
     "metadata": {},
     "output_type": "execute_result"
    }
   ],
   "source": [
    "matched"
   ]
  },
  {
   "cell_type": "code",
   "execution_count": 133,
   "metadata": {},
   "outputs": [
    {
     "data": {
      "text/plain": [
       "59"
      ]
     },
     "execution_count": 133,
     "metadata": {},
     "output_type": "execute_result"
    }
   ],
   "source": [
    "np.sum(matched)"
   ]
  },
  {
   "cell_type": "code",
   "execution_count": 125,
   "metadata": {},
   "outputs": [
    {
     "data": {
      "text/plain": [
       "array([1.91989251, 2.14449999, 0.87750076, 1.80008622, 2.15977871,\n",
       "       1.93993433, 2.13139818, 1.78004415, 1.79794229, 1.9238019 ,\n",
       "       1.94761007, 1.9089888 , 2.05921476, 2.03335028, 2.00154688,\n",
       "       2.07762245, 1.93749091, 1.84890951, 1.91270463, 1.99596408,\n",
       "       2.04549499, 1.77952282, 1.70075936, 2.06063874, 1.95895751,\n",
       "       1.90290709, 2.20677215, 1.81184683, 2.11728134, 1.85771665,\n",
       "       1.85575776, 2.41456422, 1.71818748, 1.83167828, 1.84977871,\n",
       "       1.83332236, 1.74406547, 1.98425405, 1.68166176, 1.86604294,\n",
       "       1.91626282, 2.0937721 , 1.85571229, 1.95738786, 2.18661373,\n",
       "       2.10531545, 1.9855119 , 2.0247116 , 1.96589475, 1.83411858,\n",
       "       2.06622056, 1.98831257, 2.14225923, 1.68785462, 2.17921454,\n",
       "       1.9806783 , 1.82493602, 1.90025367, 2.12829066, 2.0961077 ])"
      ]
     },
     "execution_count": 125,
     "metadata": {},
     "output_type": "execute_result"
    }
   ],
   "source": [
    "distance(pairs1_embs[2], pairs2_embs)"
   ]
  },
  {
   "cell_type": "code",
   "execution_count": 135,
   "metadata": {},
   "outputs": [
    {
     "data": {
      "image/png": "[encoded data removed]",
      "text/plain": [
       "<PIL.PngImagePlugin.PngImageFile image mode=RGB size=112x112 at 0x7F3697609780>"
      ]
     },
     "execution_count": 135,
     "metadata": {},
     "output_type": "execute_result"
    }
   ],
   "source": [
    "Image.open(pairs1[6])"
   ]
  },
  {
   "cell_type": "code",
   "execution_count": 129,
   "metadata": {},
   "outputs": [
    {
     "data": {
      "image/png": "[encoded data removed]",
      "text/plain": [
       "<PIL.PngImagePlugin.PngImageFile image mode=RGB size=112x112 at 0x7F369767ADD8>"
      ]
     },
     "execution_count": 129,
     "metadata": {},
     "output_type": "execute_result"
    }
   ],
   "source": [
    "Image.open(pairs2[3])"
   ]
  },
  {
   "cell_type": "code",
   "execution_count": 122,
   "metadata": {},
   "outputs": [
    {
     "data": {
      "text/plain": [
       "1"
      ]
     },
     "execution_count": 122,
     "metadata": {},
     "output_type": "execute_result"
    }
   ],
   "source": [
    "distance(pairs1_embs[1], pairs2_embs).argmin()"
   ]
  },
  {
   "cell_type": "code",
   "execution_count": null,
   "metadata": {},
   "outputs": [],
   "source": []
  },
  {
   "cell_type": "code",
   "execution_count": null,
   "metadata": {},
   "outputs": [],
   "source": []
  }
 ],
 "metadata": {
  "kernelspec": {
   "display_name": "Python [default]",
   "language": "python",
   "name": "python3"
  },
  "language_info": {
   "codemirror_mode": {
    "name": "ipython",
    "version": 3
   },
   "file_extension": ".py",
   "mimetype": "text/x-python",
   "name": "python",
   "nbconvert_exporter": "python",
   "pygments_lexer": "ipython3",
   "version": "3.6.5"
  }
 },
 "nbformat": 4,
 "nbformat_minor": 4
}
