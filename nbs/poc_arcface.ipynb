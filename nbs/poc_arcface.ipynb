{
 "cells": [
  {
   "cell_type": "code",
   "execution_count": 1,
   "metadata": {},
   "outputs": [
    {
     "data": {
      "text/plain": [
       "'2.1.0'"
      ]
     },
     "execution_count": 1,
     "metadata": {},
     "output_type": "execute_result"
    }
   ],
   "source": [
    "import os\n",
    "import sys\n",
    "sys.path.append('/home/cocoza4/workspace/absorouteio/asr-face-recognition/src')\n",
    "import yaml\n",
    "import math\n",
    "import time\n",
    "import yaml\n",
    "import numpy as np\n",
    "from tqdm.auto import tqdm\n",
    "import tensorflow as tf\n",
    "from datetime import datetime\n",
    "from tensorflow.keras.applications import resnet50, densenet\n",
    "from PIL import Image\n",
    "import matplotlib.pyplot as plt\n",
    "\n",
    "import losses\n",
    "\n",
    "seed = 1234\n",
    "np.random.seed(seed)\n",
    "tf.random.set_seed(seed)\n",
    "\n",
    "tf.__version__"
   ]
  },
  {
   "cell_type": "code",
   "execution_count": null,
   "metadata": {},
   "outputs": [],
   "source": []
  },
  {
   "cell_type": "code",
   "execution_count": 8,
   "metadata": {},
   "outputs": [],
   "source": [
    "embs = np.array([[1, 2, 3, 4], [1, 2, 3, 4]])"
   ]
  },
  {
   "cell_type": "code",
   "execution_count": 17,
   "metadata": {},
   "outputs": [
    {
     "data": {
      "text/plain": [
       "5.477225575051661"
      ]
     },
     "execution_count": 17,
     "metadata": {},
     "output_type": "execute_result"
    }
   ],
   "source": [
    "np.linalg.norm(embs, axis=1).mean()"
   ]
  },
  {
   "cell_type": "code",
   "execution_count": 12,
   "metadata": {},
   "outputs": [
    {
     "data": {
      "text/plain": [
       "3.872983346207417"
      ]
     },
     "execution_count": 12,
     "metadata": {},
     "output_type": "execute_result"
    }
   ],
   "source": [
    "np.sqrt(np.square(embs).sum()) / len(embs)"
   ]
  },
  {
   "cell_type": "code",
   "execution_count": 11,
   "metadata": {},
   "outputs": [
    {
     "data": {
      "text/plain": [
       "5.477225575051661"
      ]
     },
     "execution_count": 11,
     "metadata": {},
     "output_type": "execute_result"
    }
   ],
   "source": [
    "xnorm = 0.\n",
    "for emb in embs:\n",
    "    xnorm += np.linalg.norm(emb)\n",
    "    \n",
    "xnorm / len(embs)"
   ]
  },
  {
   "cell_type": "code",
   "execution_count": null,
   "metadata": {},
   "outputs": [],
   "source": []
  },
  {
   "cell_type": "code",
   "execution_count": 2,
   "metadata": {},
   "outputs": [
    {
     "data": {
      "text/plain": [
       "<tf.Variable 'Variable:0' shape=(5, 10) dtype=float32, numpy=\n",
       "array([[ 6.0175818e-01, -5.2796400e-01,  7.4797714e-01,  2.9018996e-02,\n",
       "         3.4944972e-01,  1.4609915e-01,  1.4374410e+00,  1.2133319e+00,\n",
       "        -9.2248863e-01, -1.0877663e+00],\n",
       "       [ 7.2436064e-01, -1.9848469e-01, -4.7809717e-01, -5.7202711e-04,\n",
       "        -7.9462200e-01,  1.4302993e+00, -4.8167941e-01, -6.3918388e-01,\n",
       "        -6.8732041e-01,  6.9321853e-01],\n",
       "       [-2.3826312e-01,  1.0050267e+00,  1.6478889e-01, -1.2355430e+00,\n",
       "        -6.2056726e-01,  3.2021087e-01, -2.0541719e-01,  7.8044516e-01,\n",
       "         5.3888565e-01, -1.7732341e-02],\n",
       "       [ 2.8580654e-01, -6.1302465e-01, -4.4821277e-02,  8.1250571e-02,\n",
       "         3.4633163e-01,  6.8816590e-01, -9.4399410e-01,  8.3379334e-01,\n",
       "         2.2618610e-01,  4.0167210e-01],\n",
       "       [-6.8331742e-01, -1.3142057e-02, -8.2557732e-01, -4.5907727e-01,\n",
       "         6.1599922e-01, -2.1221493e-01,  9.1125315e-01,  1.1178983e+00,\n",
       "         3.7770578e-01, -8.4172136e-01]], dtype=float32)>"
      ]
     },
     "execution_count": 2,
     "metadata": {},
     "output_type": "execute_result"
    }
   ],
   "source": [
    "shape = [5, 10]\n",
    "initializer = tf.initializers.he_normal()\n",
    "tf.Variable(initializer(shape=shape))"
   ]
  },
  {
   "cell_type": "code",
   "execution_count": 3,
   "metadata": {},
   "outputs": [
    {
     "data": {
      "text/plain": [
       "<tf.Variable 'Variable:0' shape=(5, 10) dtype=float32, numpy=\n",
       "array([[ 0.58305204,  0.49041533,  0.44654036, -0.15766017, -0.20633309,\n",
       "        -0.02394199, -0.16620378,  0.26881558,  0.2415042 , -0.37397882],\n",
       "       [ 0.3381456 , -0.20047382,  0.36472836, -0.12441011, -0.14041537,\n",
       "         0.34679818, -0.8704428 ,  0.67881286,  0.14886187,  0.02734945],\n",
       "       [ 0.28471187,  0.8245155 ,  0.6991382 , -0.45852023, -0.2944657 ,\n",
       "        -0.42089078,  0.04529582, -0.39934322,  0.0411548 , -0.50247395],\n",
       "       [-0.5189348 ,  0.2958999 ,  0.5307134 ,  0.395918  ,  0.18616596,\n",
       "         0.02319741, -0.56528765,  0.42270535, -0.25802672, -0.81657857],\n",
       "       [-0.06711417,  0.50836265, -0.50336486, -0.11514664,  0.3035099 ,\n",
       "        -0.0704363 ,  0.57697785, -0.02456524,  0.269936  ,  0.93483204]],\n",
       "      dtype=float32)>"
      ]
     },
     "execution_count": 3,
     "metadata": {},
     "output_type": "execute_result"
    }
   ],
   "source": [
    "initializer = tf.initializers.VarianceScaling()\n",
    "tf.Variable(initializer(shape=shape))"
   ]
  },
  {
   "cell_type": "code",
   "execution_count": null,
   "metadata": {},
   "outputs": [],
   "source": []
  },
  {
   "cell_type": "code",
   "execution_count": 4,
   "metadata": {},
   "outputs": [],
   "source": [
    "batch_size = 256\n",
    "lr_steps = [40000, 60000, 80000]\n",
    "lr_values = [0.004, 0.002, 0.0012, 0.0004]"
   ]
  },
  {
   "cell_type": "code",
   "execution_count": 5,
   "metadata": {},
   "outputs": [
    {
     "data": {
      "text/plain": [
       "2"
      ]
     },
     "execution_count": 5,
     "metadata": {},
     "output_type": "execute_result"
    }
   ],
   "source": [
    "scale = int(512. / batch_size)\n",
    "scale"
   ]
  },
  {
   "cell_type": "code",
   "execution_count": 6,
   "metadata": {},
   "outputs": [
    {
     "data": {
      "text/plain": [
       "<tf.Variable 'learning_rate:0' shape=() dtype=float32, numpy=0.001>"
      ]
     },
     "execution_count": 6,
     "metadata": {},
     "output_type": "execute_result"
    }
   ],
   "source": [
    "optimizer = tf.keras.optimizers.RMSprop()\n",
    "optimizer.lr"
   ]
  },
  {
   "cell_type": "code",
   "execution_count": 7,
   "metadata": {},
   "outputs": [
    {
     "name": "stdout",
     "output_type": "stream",
     "text": [
      "0.001\n"
     ]
    }
   ],
   "source": [
    "print(optimizer.lr.numpy())"
   ]
  },
  {
   "cell_type": "code",
   "execution_count": 8,
   "metadata": {},
   "outputs": [
    {
     "data": {
      "text/plain": [
       "<tf.Variable 'UnreadVariable' shape=() dtype=float32, numpy=0.0005>"
      ]
     },
     "execution_count": 8,
     "metadata": {},
     "output_type": "execute_result"
    }
   ],
   "source": [
    "optimizer.lr.assign(optimizer.lr * 0.5)"
   ]
  },
  {
   "cell_type": "code",
   "execution_count": 9,
   "metadata": {},
   "outputs": [
    {
     "data": {
      "text/plain": [
       "<tf.Tensor: shape=(), dtype=float32, numpy=nan>"
      ]
     },
     "execution_count": 9,
     "metadata": {},
     "output_type": "execute_result"
    }
   ],
   "source": [
    "v = tf.constant(np.nan)\n",
    "v"
   ]
  },
  {
   "cell_type": "code",
   "execution_count": 11,
   "metadata": {},
   "outputs": [
    {
     "data": {
      "text/plain": [
       "[80000, 120000, 160000]"
      ]
     },
     "execution_count": 11,
     "metadata": {},
     "output_type": "execute_result"
    }
   ],
   "source": [
    "[scale*s for s in lr_steps]\n"
   ]
  },
  {
   "cell_type": "code",
   "execution_count": 12,
   "metadata": {},
   "outputs": [
    {
     "data": {
      "text/plain": [
       "[0.002, 0.001, 0.0006, 0.0002]"
      ]
     },
     "execution_count": 12,
     "metadata": {},
     "output_type": "execute_result"
    }
   ],
   "source": [
    "[v/scale for v in lr_values]"
   ]
  },
  {
   "cell_type": "code",
   "execution_count": 13,
   "metadata": {},
   "outputs": [],
   "source": [
    "global_step = tf.Variable(0, name=\"global_step\", dtype=tf.int64, trainable=False)"
   ]
  },
  {
   "cell_type": "code",
   "execution_count": 14,
   "metadata": {},
   "outputs": [
    {
     "data": {
      "text/plain": [
       "functools.partial(<tensorflow.python.keras.optimizer_v2.learning_rate_schedule.PiecewiseConstantDecay object at 0x7f5317c81eb8>, <tf.Variable 'global_step:0' shape=() dtype=int64, numpy=0>)"
      ]
     },
     "execution_count": 14,
     "metadata": {},
     "output_type": "execute_result"
    }
   ],
   "source": [
    "lr = tf.compat.v1.train.piecewise_constant(global_step, boundaries=lr_steps, values=lr_values, name='lr_schedule')\n",
    "lr"
   ]
  },
  {
   "cell_type": "code",
   "execution_count": 15,
   "metadata": {},
   "outputs": [
    {
     "data": {
      "text/plain": [
       "<tf.Variable 'UnreadVariable' shape=() dtype=int64, numpy=80001>"
      ]
     },
     "execution_count": 15,
     "metadata": {},
     "output_type": "execute_result"
    }
   ],
   "source": [
    "global_step.assign(80001)"
   ]
  },
  {
   "cell_type": "code",
   "execution_count": 16,
   "metadata": {},
   "outputs": [
    {
     "data": {
      "text/plain": [
       "0.0004"
      ]
     },
     "execution_count": 16,
     "metadata": {},
     "output_type": "execute_result"
    }
   ],
   "source": [
    "lr().numpy()"
   ]
  },
  {
   "cell_type": "code",
   "execution_count": null,
   "metadata": {},
   "outputs": [],
   "source": []
  },
  {
   "cell_type": "code",
   "execution_count": 17,
   "metadata": {},
   "outputs": [],
   "source": [
    "ckpt_dir = '/home/cocoza4/models/arcface_models/densenet121'"
   ]
  },
  {
   "cell_type": "code",
   "execution_count": 18,
   "metadata": {},
   "outputs": [
    {
     "data": {
      "image/png": "[encoded data removed]",
      "text/plain": [
       "<PIL.Image.Image image mode=RGB size=112x112 at 0x7F5317CA5208>"
      ]
     },
     "execution_count": 18,
     "metadata": {},
     "output_type": "execute_result"
    }
   ],
   "source": [
    "path = '/home/cocoza4/datasets/lfw_mtcnnpy_160/Yekaterina_Guseva/Yekaterina_Guseva_0001.png'\n",
    "img = Image.open(path).resize((112, 112))\n",
    "img"
   ]
  },
  {
   "cell_type": "code",
   "execution_count": 19,
   "metadata": {},
   "outputs": [],
   "source": [
    "np_img = np.asarray(img)"
   ]
  },
  {
   "cell_type": "code",
   "execution_count": 20,
   "metadata": {},
   "outputs": [
    {
     "data": {
      "text/plain": [
       "<matplotlib.image.AxesImage at 0x7f53143eda20>"
      ]
     },
     "execution_count": 20,
     "metadata": {},
     "output_type": "execute_result"
    },
    {
     "data": {
      "image/png": "[encoded data removed]",
      "text/plain": [
       "<Figure size 432x288 with 1 Axes>"
      ]
     },
     "metadata": {
      "needs_background": "light"
     },
     "output_type": "display_data"
    }
   ],
   "source": [
    "plt.imshow(tf.image.random_flip_left_right(np_img))"
   ]
  },
  {
   "cell_type": "code",
   "execution_count": 21,
   "metadata": {},
   "outputs": [
    {
     "data": {
      "text/plain": [
       "TensorShape([112, 112, 3])"
      ]
     },
     "execution_count": 21,
     "metadata": {},
     "output_type": "execute_result"
    }
   ],
   "source": [
    "img_tensor = tf.constant(np.asarray(img), dtype=tf.float32)\n",
    "img_tensor.shape"
   ]
  },
  {
   "cell_type": "code",
   "execution_count": 22,
   "metadata": {},
   "outputs": [],
   "source": [
    "from tensorflow.keras.applications import densenet"
   ]
  },
  {
   "cell_type": "code",
   "execution_count": 23,
   "metadata": {},
   "outputs": [],
   "source": [
    "img_tensor2 = tf.constant(np.asarray(img), dtype=tf.float32)"
   ]
  },
  {
   "cell_type": "code",
   "execution_count": 24,
   "metadata": {},
   "outputs": [],
   "source": [
    "mean = [0.485, 0.456, 0.406]\n",
    "std = [0.229, 0.224, 0.225]\n",
    "def imagenet_preprocess(x):\n",
    "    # image /= 255.\n",
    "    # image[..., 0] -= mean[0]\n",
    "    # image[..., 1] -= mean[1]\n",
    "    # image[..., 2] -= mean[2]\n",
    "    # image[..., 0] /= std[0]\n",
    "    # image[..., 1] /= std[1]\n",
    "    # image[..., 2] /= std[2]\n",
    "    x /= 255.\n",
    "    x = tf.stack([x[..., 0] - mean[0], x[..., 1] - mean[1], x[..., 2] - mean[2]], axis=-1)\n",
    "    x = tf.stack([x[..., 0] / std[0], x[..., 1] / std[1], x[..., 2] / std[2]], axis=-1)\n",
    "    return x\n",
    "\n",
    "x1 = imagenet_preprocess(img_tensor)\n",
    "inputs = x1"
   ]
  },
  {
   "cell_type": "code",
   "execution_count": 25,
   "metadata": {},
   "outputs": [],
   "source": [
    "x2 = densenet.preprocess_input(img_tensor)"
   ]
  },
  {
   "cell_type": "code",
   "execution_count": 26,
   "metadata": {},
   "outputs": [
    {
     "data": {
      "text/plain": [
       "True"
      ]
     },
     "execution_count": 26,
     "metadata": {},
     "output_type": "execute_result"
    }
   ],
   "source": [
    "np.isclose(x1, x2, atol=0.001).all()"
   ]
  },
  {
   "cell_type": "code",
   "execution_count": null,
   "metadata": {},
   "outputs": [],
   "source": []
  },
  {
   "cell_type": "code",
   "execution_count": 27,
   "metadata": {},
   "outputs": [],
   "source": [
    "epochs = 2\n",
    "n_classes = 16\n",
    "lr = 0.001\n",
    "m1 = 1.0\n",
    "m2 = 0.3\n",
    "m3 = 0.2\n",
    "s = 64.\n",
    "img_w = 112\n",
    "img_h = 112\n",
    "embedding_size = 512\n",
    "\n",
    "base_logdir = '/tmp/dir'\n",
    "data_dir = '/home/cocoza4/datasets/lfw_sample'"
   ]
  },
  {
   "cell_type": "code",
   "execution_count": null,
   "metadata": {},
   "outputs": [],
   "source": []
  },
  {
   "cell_type": "code",
   "execution_count": 28,
   "metadata": {},
   "outputs": [],
   "source": [
    "initial_learning_rate =lr\n",
    "lr_schedule = tf.keras.optimizers.schedules.ExponentialDecay(\n",
    "    initial_learning_rate,\n",
    "    decay_steps=2,\n",
    "    decay_rate=0.96,\n",
    "    staircase=True)"
   ]
  },
  {
   "cell_type": "code",
   "execution_count": 29,
   "metadata": {},
   "outputs": [],
   "source": [
    "optimizer = tf.keras.optimizers.Adam()"
   ]
  },
  {
   "cell_type": "code",
   "execution_count": 30,
   "metadata": {},
   "outputs": [
    {
     "data": {
      "text/plain": [
       "(<tf.Tensor: shape=(), dtype=float32, numpy=0.0008153726>,\n",
       " <tf.Tensor: shape=(), dtype=int64, numpy=128>)"
      ]
     },
     "execution_count": 30,
     "metadata": {},
     "output_type": "execute_result"
    }
   ],
   "source": [
    "lr_schedule(10), tf.cast(128, tf.int64)"
   ]
  },
  {
   "cell_type": "code",
   "execution_count": 32,
   "metadata": {},
   "outputs": [],
   "source": [
    "class ArcFaceModel(tf.keras.Model):\n",
    "    \n",
    "    def __init__(self, backbone, embedding_size):\n",
    "        super().__init__()\n",
    "        self.backbone = backbone\n",
    "        self.bn1 = tf.keras.layers.BatchNormalization()\n",
    "#         self.dropout = tf.keras.layers.Dropout(0.4)\n",
    "        self.dense = tf.keras.layers.Dense(embedding_size)\n",
    "        self.bn2 = tf.keras.layers.BatchNormalization(scale=False)\n",
    "        \n",
    "    def call(self, inputs, training=False):\n",
    "        x = self.backbone(inputs, training=training)\n",
    "        x = self.bn1(x, training=training)\n",
    "#         x = self.dropout(x, training=training)\n",
    "        x = self.dense(x, training=training)\n",
    "        x = self.bn2(x, training=training)\n",
    "        return x"
   ]
  },
  {
   "cell_type": "code",
   "execution_count": 33,
   "metadata": {},
   "outputs": [],
   "source": [
    "# data = data-127.5\n",
    "# data = data*0.0078125\n",
    "\n",
    "inputs = (img_tensor - 127.5) * 0.0078125"
   ]
  },
  {
   "cell_type": "code",
   "execution_count": 34,
   "metadata": {},
   "outputs": [
    {
     "data": {
      "text/plain": [
       "<__main__.ArcFaceModel at 0x7f5314142e10>"
      ]
     },
     "execution_count": 34,
     "metadata": {},
     "output_type": "execute_result"
    }
   ],
   "source": [
    "backbone = tf.keras.applications.DenseNet121(weights=None, include_top=False, pooling='avg')\n",
    "# backbone = tf.keras.applications.ResNet101(include_top=False, pooling='avg')\n",
    "model = ArcFaceModel(backbone, embedding_size)\n",
    "model"
   ]
  },
  {
   "cell_type": "code",
   "execution_count": 35,
   "metadata": {},
   "outputs": [
    {
     "data": {
      "text/plain": [
       "<tf.Tensor: shape=(1, 1024), dtype=float32, numpy=\n",
       "array([[0.02434446, 0.00360292, 0.03869193, ..., 0.02997716, 0.00564097,\n",
       "        0.01988139]], dtype=float32)>"
      ]
     },
     "execution_count": 35,
     "metadata": {},
     "output_type": "execute_result"
    }
   ],
   "source": [
    "backbone(tf.expand_dims(inputs, axis=0))"
   ]
  },
  {
   "cell_type": "code",
   "execution_count": 36,
   "metadata": {},
   "outputs": [
    {
     "data": {
      "text/plain": [
       "<tf.Tensor: shape=(1, 512), dtype=float32, numpy=\n",
       "array([[-1.87613685e-02,  1.60674881e-02, -3.00272442e-02,\n",
       "         4.15759869e-02, -1.45169348e-02, -5.32594603e-03,\n",
       "         3.57160307e-02, -3.65322754e-02,  9.82430950e-03,\n",
       "        -1.78041905e-02,  2.38980614e-02, -3.28363702e-02,\n",
       "         3.60440128e-02, -6.57016644e-04,  4.43468615e-02,\n",
       "        -2.30651977e-03, -4.93462272e-02, -2.30298005e-02,\n",
       "        -8.99814907e-03,  7.89491087e-03,  1.12160780e-02,\n",
       "         1.04169911e-02,  4.05542813e-02, -3.39755453e-02,\n",
       "        -3.32789011e-02, -2.66066100e-02,  2.02119746e-03,\n",
       "        -9.40856989e-03,  2.17544101e-03, -2.73370221e-02,\n",
       "        -2.45315228e-02,  1.21938633e-02,  2.26359330e-02,\n",
       "         4.28859740e-02, -1.80550758e-02,  7.92452786e-03,\n",
       "        -1.87597182e-02, -4.65440676e-02, -8.03090073e-03,\n",
       "         9.51390993e-03,  2.65928935e-02,  9.16753337e-03,\n",
       "         3.06984270e-03, -3.25369351e-02, -1.45216640e-02,\n",
       "        -8.80370475e-03,  2.07088776e-02,  2.47810092e-02,\n",
       "         2.12483406e-02,  3.65230925e-02,  2.39225253e-02,\n",
       "         1.01365102e-02,  3.68807130e-02,  4.97654751e-02,\n",
       "        -3.86239239e-03,  1.68541968e-02,  5.53747965e-03,\n",
       "         2.07188278e-02, -3.05357091e-02, -4.49197106e-02,\n",
       "        -1.14697693e-02,  2.19534133e-02, -1.01988402e-03,\n",
       "        -5.33682818e-04, -3.14327925e-02, -7.88114092e-04,\n",
       "        -1.37503014e-03,  4.80841799e-03, -1.86148174e-02,\n",
       "         1.35401702e-02, -2.00874843e-02,  1.04928650e-02,\n",
       "        -2.76966933e-02,  2.37523466e-02, -1.18690189e-02,\n",
       "         1.22480821e-02,  6.07508374e-03,  7.30793457e-04,\n",
       "         3.19980346e-02, -1.69912931e-02, -3.16606015e-02,\n",
       "         4.75112721e-02,  4.56566317e-03, -2.82562580e-02,\n",
       "         5.45818685e-03,  1.56883765e-02,  3.04133520e-02,\n",
       "        -1.70447410e-03, -2.81297825e-02, -2.70823594e-02,\n",
       "        -2.06105243e-02, -1.64042711e-02, -6.38763711e-04,\n",
       "         2.96184863e-03,  6.07322762e-03, -5.68203116e-03,\n",
       "         1.86383985e-02, -2.53825840e-02, -5.65063255e-03,\n",
       "        -9.22779739e-03,  2.51911227e-02,  1.20618092e-02,\n",
       "         7.49611249e-03, -1.06057357e-02, -4.36957590e-02,\n",
       "         5.55979423e-02, -2.10567787e-02,  7.99339823e-03,\n",
       "         1.71988495e-02, -1.87890492e-02,  1.32818054e-02,\n",
       "         1.70068573e-02,  4.66912612e-03,  2.98787728e-02,\n",
       "        -2.30880007e-02, -2.25512609e-02,  9.85701568e-03,\n",
       "         7.87414424e-03, -2.94572171e-02,  1.68498065e-02,\n",
       "         1.43563549e-03, -8.68785253e-04, -2.50162352e-02,\n",
       "         1.37227625e-02,  1.98346237e-03, -9.90465004e-03,\n",
       "         1.98914707e-02,  2.72160489e-02, -6.74725696e-03,\n",
       "         1.38754714e-02,  3.48381884e-02,  6.46839253e-05,\n",
       "        -9.58745135e-04,  1.77587178e-02,  2.52698716e-02,\n",
       "        -1.08359056e-02, -2.57092081e-02,  1.96459480e-02,\n",
       "         2.77319294e-03, -5.95806446e-03, -2.89290715e-02,\n",
       "         3.00392248e-02, -3.12528177e-03, -3.74865979e-02,\n",
       "        -8.98989011e-03,  9.11717303e-03, -5.17388992e-02,\n",
       "         7.16392836e-03,  3.15322876e-02,  5.13359904e-02,\n",
       "        -1.65863298e-02, -5.92720055e-04,  1.79986923e-03,\n",
       "         2.11464427e-02,  3.23547758e-02,  3.49477567e-02,\n",
       "        -4.88493918e-03, -2.55226791e-02, -1.73372235e-02,\n",
       "        -3.03740166e-02,  3.94666418e-02,  2.98036207e-02,\n",
       "        -2.67220358e-03,  1.44959232e-02,  2.57134344e-02,\n",
       "        -2.56912634e-02,  2.68096644e-02,  1.03304686e-03,\n",
       "        -1.06191868e-02,  9.14656091e-03, -2.61952379e-03,\n",
       "         2.24505691e-03, -2.85160821e-03,  2.20569335e-02,\n",
       "         2.27898769e-02, -5.90238371e-04, -3.78390448e-03,\n",
       "        -1.83195807e-02,  1.08240861e-02, -4.48628180e-02,\n",
       "         9.26971959e-04,  6.07347675e-03,  1.86315365e-02,\n",
       "        -9.76338610e-03,  1.71111282e-02, -2.15436351e-02,\n",
       "        -1.99952573e-02, -1.86344739e-02, -1.89908780e-02,\n",
       "         5.23924008e-02, -1.10316044e-02, -1.13045452e-02,\n",
       "        -2.20495854e-02, -4.89140823e-02,  2.86430605e-02,\n",
       "        -1.45725003e-02, -3.19385268e-02,  4.65409569e-02,\n",
       "         3.38836461e-02,  2.40789814e-04, -1.19284205e-02,\n",
       "        -3.01843369e-03, -1.46718202e-02, -3.47637981e-02,\n",
       "         3.96279916e-02,  3.91065050e-03,  1.53029608e-02,\n",
       "        -2.08956674e-02,  3.79443765e-02, -1.60344020e-02,\n",
       "        -1.94359217e-02, -1.39333904e-02,  6.80881664e-02,\n",
       "         1.77186504e-02, -2.47669760e-02, -2.75544524e-02,\n",
       "        -1.01846885e-02, -1.87120568e-02,  1.39852883e-02,\n",
       "         6.58017211e-03,  3.61563005e-02, -1.05290185e-03,\n",
       "        -2.13684421e-02,  1.45068602e-03, -4.32110950e-02,\n",
       "        -4.96849185e-03,  2.00504269e-02,  2.87929922e-02,\n",
       "         6.22234400e-03,  1.79570299e-02, -2.66228467e-02,\n",
       "         1.60861276e-02, -6.44497806e-03, -4.35331697e-03,\n",
       "        -1.75398542e-03,  6.29806006e-03, -1.43293291e-02,\n",
       "         2.44115815e-02, -5.40711023e-02,  3.79695301e-03,\n",
       "        -4.58739279e-03,  4.89171501e-03,  4.42555360e-03,\n",
       "        -2.17623953e-02, -6.92298543e-03,  5.29953465e-02,\n",
       "         2.07360554e-02,  3.15424195e-03, -3.90235521e-02,\n",
       "         1.34587362e-02,  6.77644787e-03, -2.69610491e-02,\n",
       "         2.66998876e-02, -4.00762297e-02, -2.18214151e-02,\n",
       "         2.30528675e-02,  2.94216815e-02, -4.04486731e-02,\n",
       "        -4.93793748e-04, -2.05722991e-02, -2.39350256e-02,\n",
       "        -1.55086378e-02, -3.00564896e-02,  1.49628250e-02,\n",
       "        -1.73983108e-02,  1.87343806e-02,  2.77602673e-02,\n",
       "        -3.58799729e-03, -1.04923872e-03, -9.04011307e-04,\n",
       "        -2.48559248e-02,  2.39167456e-03, -4.45316061e-02,\n",
       "         2.18890384e-02, -2.94633508e-02, -1.14384647e-02,\n",
       "         3.57473008e-02, -4.20702947e-03, -1.57553125e-02,\n",
       "        -2.02490073e-02, -5.20559587e-03,  7.34850252e-03,\n",
       "         2.34488156e-02,  9.88636725e-03, -1.74228195e-02,\n",
       "         1.08349184e-03,  3.56348567e-02,  1.24250436e-02,\n",
       "        -7.74318539e-03,  2.50216071e-02,  4.47987728e-02,\n",
       "        -6.56193076e-03,  2.43186057e-02,  1.43047404e-02,\n",
       "        -9.49536823e-03, -2.07582321e-02,  5.44013362e-03,\n",
       "        -5.55366389e-02,  1.32854013e-02,  3.67065445e-02,\n",
       "        -5.92758181e-04,  8.53507780e-03, -8.32966436e-03,\n",
       "         3.96748297e-02, -3.43420543e-02,  1.64440367e-02,\n",
       "        -1.41714409e-03, -1.22056799e-02,  7.27555191e-04,\n",
       "         6.34590443e-03, -2.85063740e-02, -1.57504939e-02,\n",
       "        -4.91582640e-02, -1.88028514e-02, -1.20713273e-02,\n",
       "        -9.07339901e-03,  3.57787013e-02,  6.18329737e-04,\n",
       "         9.91994515e-03,  2.50332449e-02, -3.59092392e-02,\n",
       "         2.97123231e-02, -6.47837063e-03, -2.16983445e-02,\n",
       "        -3.11159925e-03,  1.71212200e-02,  1.32750431e-02,\n",
       "        -1.37631791e-02, -2.59876554e-03,  4.40226384e-02,\n",
       "         1.58812013e-02,  1.05925864e-02, -1.50233097e-02,\n",
       "         4.93204780e-02, -3.14714722e-02, -2.10283659e-02,\n",
       "        -1.39401490e-02,  9.45255067e-03,  2.28180084e-02,\n",
       "         4.94913757e-03, -1.51866209e-02,  4.28533517e-02,\n",
       "        -3.85719091e-02, -4.54659536e-02,  3.10592614e-02,\n",
       "        -4.50753830e-02,  6.78732395e-02,  7.30751595e-03,\n",
       "        -4.51554470e-02, -9.02890973e-03,  2.93259360e-02,\n",
       "         8.02342296e-02,  8.41656141e-03,  8.80784635e-03,\n",
       "        -1.54811013e-02,  2.01043859e-02,  2.41814693e-03,\n",
       "        -3.49335819e-02, -2.45071184e-02,  4.05228958e-02,\n",
       "        -2.55302377e-02,  1.96153466e-02,  1.37395356e-02,\n",
       "        -1.18007809e-02, -2.44190004e-02,  5.03943749e-02,\n",
       "         4.36761463e-03,  1.82457473e-02,  1.46827186e-02,\n",
       "        -2.85753738e-02,  7.75798643e-03,  3.55372317e-02,\n",
       "         1.73794068e-02, -1.41826980e-02,  9.84374341e-03,\n",
       "         2.21258663e-02,  1.23548126e-02, -1.63476926e-03,\n",
       "         1.24505553e-02,  3.80289257e-02,  4.95184259e-03,\n",
       "         1.38689084e-02, -2.95495726e-02,  3.27983615e-03,\n",
       "        -3.28363031e-02,  9.31079593e-03,  4.01444407e-03,\n",
       "        -1.23569136e-02, -3.21088568e-03, -3.51147205e-02,\n",
       "        -4.05075699e-02,  9.12961923e-03, -1.15168300e-02,\n",
       "         1.69920977e-02, -8.38888751e-04,  3.74417529e-02,\n",
       "        -5.51117759e-04, -3.77261341e-02, -4.05585114e-03,\n",
       "         3.13177658e-03, -4.31672158e-03,  1.33637553e-02,\n",
       "        -2.43103951e-02, -2.40182877e-02, -3.19973230e-02,\n",
       "        -2.88999528e-02,  2.88270395e-02,  1.08654872e-02,\n",
       "         1.47543866e-02, -1.34432688e-02,  3.05449869e-02,\n",
       "         1.95669010e-03, -2.19071899e-02, -3.39239687e-02,\n",
       "        -1.88423824e-02,  2.20641810e-02,  3.26241180e-03,\n",
       "         2.58363858e-02,  1.16104856e-02,  7.66034750e-03,\n",
       "         1.51685288e-03,  1.65340267e-02, -3.96123948e-03,\n",
       "         2.62470148e-03, -1.86386257e-02,  1.12032145e-02,\n",
       "         2.52061877e-02,  3.52413356e-02, -1.75870303e-02,\n",
       "         3.48143764e-02, -1.30766248e-02,  9.62733757e-03,\n",
       "        -3.30771953e-02,  3.51394638e-02,  7.15822354e-03,\n",
       "        -3.06322519e-02, -3.34377997e-02,  2.03363076e-02,\n",
       "        -1.81482791e-03,  1.91924817e-04, -1.54765639e-02,\n",
       "        -1.64789371e-02,  1.07785417e-02, -6.90182671e-03,\n",
       "        -2.81361975e-02, -2.33973097e-02,  4.02920460e-03,\n",
       "         2.40124650e-02,  1.55489938e-02,  3.49645596e-03,\n",
       "         1.24282297e-02, -2.86490824e-02,  8.02190695e-03,\n",
       "         2.52484363e-02,  1.23978518e-02, -8.79546907e-03,\n",
       "        -4.90061641e-02,  7.34906318e-03,  8.81705806e-03,\n",
       "        -2.21359245e-02,  2.46450249e-02, -2.09190976e-03,\n",
       "        -5.29696420e-03, -2.72041615e-02,  1.87576953e-02,\n",
       "        -1.88145845e-03,  7.81061640e-03, -1.71991810e-02,\n",
       "        -6.38059378e-02, -1.66351236e-02, -7.97292404e-03,\n",
       "         3.23359878e-03,  2.66101807e-02, -4.38908637e-02,\n",
       "        -9.38520115e-03,  1.05805357e-03, -1.51257226e-02,\n",
       "         1.31739145e-02,  2.75557414e-02,  7.89778400e-03,\n",
       "         4.31700237e-03, -4.44277050e-03,  4.72584693e-03,\n",
       "         1.41690997e-02,  4.26764414e-03,  3.36288027e-02,\n",
       "        -1.67959202e-02, -1.83058623e-02,  1.82120819e-02,\n",
       "         5.57675809e-02,  1.25341229e-02,  9.64544807e-03,\n",
       "         7.22789252e-03,  1.75458414e-03,  2.79499143e-02,\n",
       "         6.96239993e-03, -1.61602104e-03, -3.61066242e-03,\n",
       "        -1.10925585e-02,  3.54632437e-02,  1.63598582e-02,\n",
       "         8.97972379e-03,  2.49983724e-02, -1.33575071e-02,\n",
       "         2.20929622e-03,  1.16828773e-02, -3.41107361e-02,\n",
       "         2.68038716e-02, -6.25006063e-03,  1.43779060e-02,\n",
       "        -2.37210793e-03,  1.40775846e-05]], dtype=float32)>"
      ]
     },
     "execution_count": 36,
     "metadata": {},
     "output_type": "execute_result"
    }
   ],
   "source": [
    "embeddings = model(tf.expand_dims(inputs, axis=0), training=False)\n",
    "embeddings"
   ]
  },
  {
   "cell_type": "code",
   "execution_count": 37,
   "metadata": {},
   "outputs": [
    {
     "data": {
      "text/plain": [
       "<tf.Tensor: shape=(2, 512), dtype=float32, numpy=\n",
       "array([[1., 1., 1., ..., 1., 1., 1.],\n",
       "       [2., 2., 2., ..., 2., 2., 2.]], dtype=float32)>"
      ]
     },
     "execution_count": 37,
     "metadata": {},
     "output_type": "execute_result"
    }
   ],
   "source": [
    "embeddings = tf.stack([tf.ones((1, embedding_size)), tf.ones((1, embedding_size))*2], axis=1)[0]\n",
    "embeddings"
   ]
  },
  {
   "cell_type": "code",
   "execution_count": 38,
   "metadata": {},
   "outputs": [
    {
     "data": {
      "text/plain": [
       "<tf.Tensor: shape=(2, 512), dtype=float32, numpy=\n",
       "array([[2.828427, 2.828427, 2.828427, ..., 2.828427, 2.828427, 2.828427],\n",
       "       [2.828427, 2.828427, 2.828427, ..., 2.828427, 2.828427, 2.828427]],\n",
       "      dtype=float32)>"
      ]
     },
     "execution_count": 38,
     "metadata": {},
     "output_type": "execute_result"
    }
   ],
   "source": [
    "norm_embedding = tf.nn.l2_normalize(embeddings, axis=1) * s\n",
    "# embedding = tf.divide(embeddings, norm_embedding, name='norm_embedding')\n",
    "norm_embedding"
   ]
  },
  {
   "cell_type": "code",
   "execution_count": 39,
   "metadata": {},
   "outputs": [],
   "source": [
    "# random_normal = np.random.normal(size=[n_classes, norm_embedding.shape[-1]])\n",
    "# random_normal.shape"
   ]
  },
  {
   "cell_type": "code",
   "execution_count": 44,
   "metadata": {},
   "outputs": [
    {
     "data": {
      "text/plain": [
       "<tf.Tensor: shape=(16, 512), dtype=float32, numpy=\n",
       "array([[ 0.03763539, -0.03190944, -0.00048515, ...,  0.01377497,\n",
       "        -0.01152797, -0.00066509],\n",
       "       [ 0.0579932 ,  0.05403734,  0.06520945, ...,  0.06305415,\n",
       "        -0.09200087, -0.0398398 ],\n",
       "       [-0.04738777, -0.01313001,  0.07448193, ...,  0.04901741,\n",
       "         0.05168638,  0.00314881],\n",
       "       ...,\n",
       "       [ 0.00599919,  0.01139707,  0.01388642, ...,  0.02630946,\n",
       "         0.06722885,  0.00757029],\n",
       "       [-0.00323207, -0.06361695,  0.07606632, ...,  0.03697778,\n",
       "         0.01401526, -0.04012578],\n",
       "       [ 0.09497119, -0.08928275,  0.02929522, ..., -0.01689564,\n",
       "         0.01765853, -0.06013283]], dtype=float32)>"
      ]
     },
     "execution_count": 44,
     "metadata": {},
     "output_type": "execute_result"
    }
   ],
   "source": [
    "weights = tf.Variable(tf.random.truncated_normal(shape=[n_classes, norm_embedding.shape[-1]]), \n",
    "                      name='embedding_weights',\n",
    "                      dtype=tf.float32)\n",
    "norm_weights = tf.nn.l2_normalize(weights, axis=1)\n",
    "norm_weights"
   ]
  },
  {
   "cell_type": "code",
   "execution_count": 45,
   "metadata": {},
   "outputs": [
    {
     "data": {
      "text/plain": [
       "<tf.Tensor: shape=(2, 16), dtype=float32, numpy=\n",
       "array([[-0.64860344,  0.95354474,  0.7308316 ,  2.2078445 ,  1.2869488 ,\n",
       "        -0.5524014 ,  2.834073  ,  2.217826  ,  4.4459214 , -2.2694304 ,\n",
       "         1.3520737 , -1.8731047 ,  0.2938025 ,  1.3855834 ,  1.6590507 ,\n",
       "         2.3819718 ],\n",
       "       [-0.64860344,  0.95354474,  0.7308316 ,  2.2078445 ,  1.2869488 ,\n",
       "        -0.5524014 ,  2.834073  ,  2.217826  ,  4.4459214 , -2.2694304 ,\n",
       "         1.3520737 , -1.8731047 ,  0.2938025 ,  1.3855834 ,  1.6590507 ,\n",
       "         2.3819718 ]], dtype=float32)>"
      ]
     },
     "execution_count": 45,
     "metadata": {},
     "output_type": "execute_result"
    }
   ],
   "source": [
    "fc7 = tf.matmul(norm_embedding, tf.transpose(norm_weights), name='cos_t')\n",
    "fc7"
   ]
  },
  {
   "cell_type": "code",
   "execution_count": 51,
   "metadata": {},
   "outputs": [],
   "source": [
    "def arcface_loss(embeddings, weights, labels, n_classes, m1, m2, m3, s):\n",
    "    norm_embedding = tf.nn.l2_normalize(embeddings, axis=1) * s\n",
    "    norm_weights = tf.nn.l2_normalize(weights, axis=1)\n",
    "    fc7 = tf.matmul(norm_embedding, tf.transpose(norm_weights), name='cos_t')\n",
    "    print('fc7=', fc7)\n",
    "    indices = tf.stack([tf.range(norm_embedding.shape[0])[:, None], labels[:, None]], axis=-1)\n",
    "    zy = tf.gather_nd(fc7, indices=indices)\n",
    "    print('zy=', zy)\n",
    "    cos_t = zy / s\n",
    "    theta = tf.acos(cos_t)\n",
    "    new_zy = (tf.cos(theta*m1 + m2) - m3) * s\n",
    "    diff = new_zy - zy\n",
    "    prelogits = fc7 + tf.one_hot(labels, n_classes) * diff\n",
    "    print('prelogits=', prelogits)\n",
    "    \n",
    "    print(tf.nn.softmax_cross_entropy_with_logits(labels[:, None], prelogits))\n",
    "    print(tf.nn.softmax(tf.nn.softmax_cross_entropy_with_logits(labels[:, None], prelogits)))\n",
    "    cce = tf.keras.losses.SparseCategoricalCrossentropy(from_logits=True)\n",
    "    loss = cce(labels, prelogits)\n",
    "\n",
    "    return loss"
   ]
  },
  {
   "cell_type": "code",
   "execution_count": 53,
   "metadata": {},
   "outputs": [
    {
     "data": {
      "text/plain": [
       "(TensorShape([5, 512]), TensorShape([16, 512]))"
      ]
     },
     "execution_count": 53,
     "metadata": {},
     "output_type": "execute_result"
    }
   ],
   "source": [
    "labels = tf.constant([0, 1, 4, 2, 3])\n",
    "\n",
    "np_embeddings = np.random.normal(size=(len(labels), embedding_size))\n",
    "np_weights = np.random.normal(size=(n_classes, embedding_size))\n",
    "\n",
    "embeddings = tf.constant(np_embeddings, dtype=tf.float32)\n",
    "weights = tf.Variable(np_weights, name='embedding_weights', dtype=tf.float32)\n",
    "\n",
    "embeddings.shape, weights.shape"
   ]
  },
  {
   "cell_type": "code",
   "execution_count": 54,
   "metadata": {},
   "outputs": [
    {
     "name": "stdout",
     "output_type": "stream",
     "text": [
      "fc7= tf.Tensor(\n",
      "[[ 3.317935    5.6562977  -3.7508993   1.1437958  -1.8169177   1.6026498\n",
      "   3.1707225   0.04199874  2.0338802  -1.0047256   0.0183399   3.217183\n",
      "   3.7887475   1.8762394  -5.2336226   3.1339884 ]\n",
      " [-5.0829625  -2.3999958   3.692803    1.1153153  -0.39647946 -0.6492146\n",
      "  -3.1972399  -0.5114299   2.3976882  -3.0261924   1.7650805  -1.0628681\n",
      "   0.22858846  1.422221    2.0530803   1.2473377 ]\n",
      " [ 3.078256    1.4128855  -4.274635    1.9914747   3.6377141  -3.3860402\n",
      "  -3.6145387  -3.3598707  -0.2553854  -3.7376404  -0.10067868  0.8508465\n",
      "   2.3102226  -2.3116798   0.42377177 -2.4772635 ]\n",
      " [ 2.748749   -4.396695   -0.3434921   0.21728182  2.8769233  -0.86855507\n",
      "   1.0436699   1.6044765   3.3574157  -2.038629    2.426749   -4.086615\n",
      "  -7.881054   -1.6601723  -3.0188694   0.4363377 ]\n",
      " [-0.07416464 -5.268386   -3.164917    1.3993866  -0.55918646  0.8092506\n",
      "   0.296175    1.0570521   2.2183661  -1.1731368   1.6332489   4.802745\n",
      "  -2.347561    5.2277284  -2.2327604  -1.2765193 ]], shape=(5, 16), dtype=float32)\n",
      "zy= tf.Tensor(\n",
      "[[ 3.317935 ]\n",
      " [-2.3999958]\n",
      " [ 3.6377141]\n",
      " [-0.3434921]\n",
      " [ 1.3993866]], shape=(5, 1), dtype=float32)\n",
      "prelogits= tf.Tensor(\n",
      "[[-2.8518120e+01  5.6562977e+00 -3.7508993e+00  1.1437958e+00\n",
      "  -1.8169177e+00  1.6026498e+00  3.1707225e+00  4.1998744e-02\n",
      "   2.0338802e+00 -1.0047256e+00  1.8339902e-02  3.2171831e+00\n",
      "   3.7887475e+00  1.8762394e+00 -5.2336226e+00  3.1339884e+00]\n",
      " [-5.0829625e+00 -3.3992802e+01  3.6928029e+00  1.1153153e+00\n",
      "  -3.9647946e-01 -6.4921463e-01 -3.1972399e+00 -5.1142991e-01\n",
      "   2.3976882e+00 -3.0261924e+00  1.7650805e+00 -1.0628681e+00\n",
      "   2.2858846e-01  1.4222209e+00  2.0530803e+00  1.2473377e+00]\n",
      " [ 3.0782559e+00  1.4128855e+00 -4.2746348e+00  1.9914747e+00\n",
      "  -2.8207481e+01 -3.3860402e+00 -3.6145387e+00 -3.3598707e+00\n",
      "  -2.5538540e-01 -3.7376404e+00 -1.0067868e-01  8.5084653e-01\n",
      "   2.3102226e+00 -2.3116798e+00  4.2377177e-01 -2.4772635e+00]\n",
      " [ 2.7487490e+00 -4.3966951e+00 -3.2041176e+01  2.1728182e-01\n",
      "   2.8769233e+00 -8.6855507e-01  1.0436699e+00  1.6044765e+00\n",
      "   3.3574157e+00 -2.0386291e+00  2.4267490e+00 -4.0866151e+00\n",
      "  -7.8810539e+00 -1.6601723e+00 -3.0188694e+00  4.3633771e-01]\n",
      " [-7.4164644e-02 -5.2683859e+00 -3.1649170e+00 -3.0371887e+01\n",
      "  -5.5918646e-01  8.0925059e-01  2.9617500e-01  1.0570521e+00\n",
      "   2.2183661e+00 -1.1731368e+00  1.6332489e+00  4.8027449e+00\n",
      "  -2.3475609e+00  5.2277284e+00 -2.2327604e+00 -1.2765193e+00]], shape=(5, 16), dtype=float32)\n",
      "tf.Tensor([  0.      103.90002 415.83246 224.66574 369.8219 ], shape=(5,), dtype=float32)\n",
      "tf.Tensor([0.0000000e+00 0.0000000e+00 1.0000000e+00 0.0000000e+00 1.0420009e-20], shape=(5,), dtype=float32)\n"
     ]
    },
    {
     "data": {
      "text/plain": [
       "<tf.Tensor: shape=(), dtype=float32, numpy=35.538944>"
      ]
     },
     "execution_count": 54,
     "metadata": {},
     "output_type": "execute_result"
    }
   ],
   "source": [
    "arcface_loss(embeddings, weights, labels, n_classes, m1, m2, m3, s)"
   ]
  },
  {
   "cell_type": "code",
   "execution_count": 55,
   "metadata": {},
   "outputs": [],
   "source": [
    "@tf.function\n",
    "def train_step(emb_weights, labels, optimizer):\n",
    "    with tf.GradientTape(persistent=False) as tape:\n",
    "        loss = losses.arcface_loss(embeddings, emb_weights, labels, n_classes, m1, m2, m3, s)\n",
    "    \n",
    "    trainable_vars = model.trainable_variables + [emb_weights]\n",
    "    gradients = tape.gradient(loss, trainable_vars)\n",
    "    print(gradients)\n",
    "    optimizer.apply_gradients(zip(gradients, trainable_vars))\n",
    "\n",
    "    return loss"
   ]
  },
  {
   "cell_type": "code",
   "execution_count": 56,
   "metadata": {},
   "outputs": [
    {
     "data": {
      "text/plain": [
       "<tf.Variable 'embedding_weights:0' shape=(16, 512) dtype=float32, numpy=\n",
       "array([[-0.5148968 , -0.11779637, -0.10890643, ...,  0.21476126,\n",
       "         1.4193898 , -0.53445953],\n",
       "       [ 0.7982284 , -0.663361  ,  0.23064607, ..., -1.0103339 ,\n",
       "         0.7351496 , -0.9460761 ],\n",
       "       [ 1.4648852 , -1.668878  , -1.4180281 , ...,  1.7570642 ,\n",
       "        -1.3622361 , -1.5086669 ],\n",
       "       ...,\n",
       "       [ 0.5511457 , -1.2135758 , -1.2064283 , ...,  0.84455967,\n",
       "         0.75530773, -2.86367   ],\n",
       "       [ 0.13893501, -0.60709167,  0.7009326 , ..., -1.3994805 ,\n",
       "        -0.45315573,  1.5696242 ],\n",
       "       [ 0.7524545 ,  0.8833188 , -0.8442362 , ...,  1.7759172 ,\n",
       "         0.23307842, -0.7304884 ]], dtype=float32)>"
      ]
     },
     "execution_count": 56,
     "metadata": {},
     "output_type": "execute_result"
    }
   ],
   "source": [
    "weights"
   ]
  },
  {
   "cell_type": "code",
   "execution_count": 57,
   "metadata": {},
   "outputs": [
    {
     "data": {
      "text/plain": [
       "(16, 512)"
      ]
     },
     "execution_count": 57,
     "metadata": {},
     "output_type": "execute_result"
    }
   ],
   "source": [
    "np_weights.shape"
   ]
  },
  {
   "cell_type": "code",
   "execution_count": null,
   "metadata": {},
   "outputs": [],
   "source": []
  },
  {
   "cell_type": "code",
   "execution_count": 58,
   "metadata": {},
   "outputs": [
    {
     "data": {
      "text/plain": [
       "TensorShape([512, 16])"
      ]
     },
     "execution_count": 58,
     "metadata": {},
     "output_type": "execute_result"
    }
   ],
   "source": [
    "test_np_weights = np.random.normal(size=(embedding_size, n_classes))\n",
    "\n",
    "\n",
    "test_weights = tf.Variable(test_np_weights, name='embedding_weights', dtype=tf.float32)\n",
    "\n",
    "test_weights.shape"
   ]
  },
  {
   "cell_type": "code",
   "execution_count": 60,
   "metadata": {},
   "outputs": [
    {
     "data": {
      "text/plain": [
       "<tf.Tensor: shape=(512, 16), dtype=float32, numpy=\n",
       "array([[-0.30044496,  0.31257108, -0.35963044, ..., -0.44853535,\n",
       "         0.20374057, -0.08821847],\n",
       "       [-0.45993537, -0.16263159,  0.33934218, ..., -0.03753053,\n",
       "        -0.29288992, -0.11112409],\n",
       "       [-0.06098167, -0.12620497,  0.53956735, ...,  0.10737266,\n",
       "        -0.1870294 , -0.13279285],\n",
       "       ...,\n",
       "       [ 0.21551035, -0.67406195,  0.03756414, ..., -0.16988708,\n",
       "         0.0820425 ,  0.09167027],\n",
       "       [ 0.08864576, -0.12043781,  0.44998494, ..., -0.00952668,\n",
       "        -0.00852236,  0.11845292],\n",
       "       [ 0.14306071, -0.60816026,  0.14002529, ..., -0.32237527,\n",
       "         0.4930142 , -0.25147077]], dtype=float32)>"
      ]
     },
     "execution_count": 60,
     "metadata": {},
     "output_type": "execute_result"
    }
   ],
   "source": [
    "test_norm_weights = tf.nn.l2_normalize(test_weights, axis=-1)\n",
    "test_norm_weights"
   ]
  },
  {
   "cell_type": "code",
   "execution_count": null,
   "metadata": {},
   "outputs": [],
   "source": []
  },
  {
   "cell_type": "code",
   "execution_count": null,
   "metadata": {},
   "outputs": [],
   "source": []
  },
  {
   "cell_type": "markdown",
   "metadata": {},
   "source": [
    "# mxnet debug"
   ]
  },
  {
   "cell_type": "code",
   "execution_count": 62,
   "metadata": {},
   "outputs": [],
   "source": [
    "import mxnet as mx\n",
    "from mxnet import nd"
   ]
  },
  {
   "cell_type": "code",
   "execution_count": 63,
   "metadata": {},
   "outputs": [],
   "source": [
    "def mx_execute(symbol, tensors):\n",
    "    shapes = {n: t.shape for n, t in tensors.items()}\n",
    "    executor = symbol.simple_bind(ctx=mx.cpu(), **shapes)\n",
    "    return executor.forward(**tensors)"
   ]
  },
  {
   "cell_type": "code",
   "execution_count": 64,
   "metadata": {},
   "outputs": [
    {
     "data": {
      "text/plain": [
       "(5, 512)"
      ]
     },
     "execution_count": 64,
     "metadata": {},
     "output_type": "execute_result"
    }
   ],
   "source": [
    "mx_embeddings = nd.from_numpy(np_embeddings)\n",
    "mx_embeddings.asnumpy().shape"
   ]
  },
  {
   "cell_type": "code",
   "execution_count": 65,
   "metadata": {},
   "outputs": [
    {
     "data": {
      "text/plain": [
       "\n",
       "[[ 0.47143516 -1.19097569  1.43270697 ... -0.03065886 -0.20017185\n",
       "  -0.48131024]\n",
       " [ 1.711426    1.43538709 -1.16752033 ... -0.37743754  0.02675793\n",
       "  -0.92223825]\n",
       " [-1.41675745  0.86352801 -0.20440578 ... -0.73736333 -0.58902251\n",
       "   0.45794716]\n",
       " [ 0.00527183 -0.12097995 -0.35335458 ...  0.74608873  0.1797728\n",
       "  -0.91737328]\n",
       " [ 0.25610753  0.08478901 -0.38450614 ...  0.2732479  -0.13855638\n",
       "   0.88190423]]\n",
       "<NDArray 5x512 @cpu(0)>"
      ]
     },
     "execution_count": 65,
     "metadata": {},
     "output_type": "execute_result"
    }
   ],
   "source": [
    "mx_embeddings"
   ]
  },
  {
   "cell_type": "code",
   "execution_count": 66,
   "metadata": {},
   "outputs": [
    {
     "data": {
      "text/plain": [
       "<Symbol _mulscalar0>"
      ]
     },
     "execution_count": 66,
     "metadata": {},
     "output_type": "execute_result"
    }
   ],
   "source": [
    "sym_embeddings = mx.sym.Variable('embedding')\n",
    "sym_norm_embedding = mx.symbol.L2Normalization(sym_embeddings, mode='instance', name='fc1n')*s\n",
    "sym_norm_embedding"
   ]
  },
  {
   "cell_type": "code",
   "execution_count": 67,
   "metadata": {},
   "outputs": [
    {
     "data": {
      "text/plain": [
       "[\n",
       " [[ 1.3969326  -3.5290382   4.245324   ... -0.09084678 -0.593139\n",
       "   -1.426194  ]\n",
       "  [ 4.8684416   4.0832024  -3.3212094  ... -1.073685    0.07611746\n",
       "   -2.6234632 ]\n",
       "  [-4.005401    2.4413326  -0.577888   ... -2.0846448  -1.6652614\n",
       "    1.2946903 ]\n",
       "  [ 0.01520733 -0.34898373 -1.0193012  ...  2.1521983   0.5185801\n",
       "   -2.646293  ]\n",
       "  [ 0.7288586   0.24130175 -1.0942693  ...  0.7776385  -0.39431876\n",
       "    2.5098186 ]]\n",
       " <NDArray 5x512 @cpu(0)>]"
      ]
     },
     "execution_count": 67,
     "metadata": {},
     "output_type": "execute_result"
    }
   ],
   "source": [
    "mx_execute(sym_norm_embedding, tensors={'embedding': mx_embeddings.asnumpy()})"
   ]
  },
  {
   "cell_type": "code",
   "execution_count": 68,
   "metadata": {},
   "outputs": [
    {
     "data": {
      "text/plain": [
       "<Symbol l2normalization0>"
      ]
     },
     "execution_count": 68,
     "metadata": {},
     "output_type": "execute_result"
    }
   ],
   "source": [
    "sym_weights = mx.sym.Variable(name='weights')\n",
    "sym_norm_weights = mx.symbol.L2Normalization(sym_weights, mode='instance')\n",
    "sym_norm_weights"
   ]
  },
  {
   "cell_type": "code",
   "execution_count": 69,
   "metadata": {},
   "outputs": [
    {
     "data": {
      "text/plain": [
       "array([[-0.51489683, -0.11779637, -0.10890643, ...,  0.21476126,\n",
       "         1.41938989, -0.53445953],\n",
       "       [ 0.79822837, -0.66336103,  0.23064607, ..., -1.01033394,\n",
       "         0.73514963, -0.9460761 ],\n",
       "       [ 1.46488528, -1.66887799, -1.41802811, ...,  1.75706428,\n",
       "        -1.36223613, -1.50866686],\n",
       "       ...,\n",
       "       [ 0.55114568, -1.2135758 , -1.2064283 , ...,  0.84455966,\n",
       "         0.75530775, -2.8636701 ],\n",
       "       [ 0.13893501, -0.60709167,  0.7009326 , ..., -1.39948041,\n",
       "        -0.45315574,  1.56962416],\n",
       "       [ 0.75245452,  0.88331877, -0.84423619, ...,  1.77591714,\n",
       "         0.23307842, -0.7304884 ]])"
      ]
     },
     "execution_count": 69,
     "metadata": {},
     "output_type": "execute_result"
    }
   ],
   "source": [
    "np_weights"
   ]
  },
  {
   "cell_type": "code",
   "execution_count": 70,
   "metadata": {},
   "outputs": [
    {
     "data": {
      "text/plain": [
       "[\n",
       " [[-0.02303948 -0.0052709  -0.00487311 ...  0.00960967  0.06351177\n",
       "   -0.02391483]\n",
       "  [ 0.03576792 -0.02972463  0.01033505 ... -0.04527218  0.03294141\n",
       "   -0.04239285]\n",
       "  [ 0.06541178 -0.0745207  -0.06331945 ...  0.0784585  -0.06082817\n",
       "   -0.06736676]\n",
       "  ...\n",
       "  [ 0.02454044 -0.05403595 -0.0537177  ...  0.03760505  0.033631\n",
       "   -0.12750842]\n",
       "  [ 0.00622409 -0.02719685  0.0314008  ... -0.06269476 -0.02030074\n",
       "    0.07031696]\n",
       "  [ 0.0333269   0.039123   -0.03739199 ...  0.078657    0.01032326\n",
       "   -0.032354  ]]\n",
       " <NDArray 16x512 @cpu(0)>]"
      ]
     },
     "execution_count": 70,
     "metadata": {},
     "output_type": "execute_result"
    }
   ],
   "source": [
    "tensors = {'weights': np_weights}\n",
    "mx_execute(sym_norm_weights, tensors)"
   ]
  },
  {
   "cell_type": "code",
   "execution_count": null,
   "metadata": {},
   "outputs": [],
   "source": []
  },
  {
   "cell_type": "code",
   "execution_count": 71,
   "metadata": {},
   "outputs": [
    {
     "data": {
      "text/plain": [
       "<Symbol fc7>"
      ]
     },
     "execution_count": 71,
     "metadata": {},
     "output_type": "execute_result"
    }
   ],
   "source": [
    "fc7 = mx.sym.FullyConnected(data=sym_norm_embedding, weight=sym_norm_weights, no_bias=True, \n",
    "                            num_hidden=n_classes, name='fc7')\n",
    "fc7"
   ]
  },
  {
   "cell_type": "code",
   "execution_count": 72,
   "metadata": {},
   "outputs": [
    {
     "data": {
      "text/plain": [
       "[\n",
       " [[ 3.317935    5.656298   -3.7509007   1.143796   -1.8169179   1.6026497\n",
       "    3.1707242   0.04199889  2.0338802  -1.0047256   0.0183395   3.2171843\n",
       "    3.7887456   1.8762394  -5.2336216   3.1339884 ]\n",
       "  [-5.0829635  -2.399995    3.6928043   1.1153157  -0.39647973 -0.6492145\n",
       "   -3.1972394  -0.5114299   2.397688   -3.026194    1.7650807  -1.0628684\n",
       "    0.22858942  1.4222214   2.0530798   1.2473373 ]\n",
       "  [ 3.0782533   1.4128864  -4.2746344   1.9914744   3.6377113  -3.3860378\n",
       "   -3.6145384  -3.3598695  -0.25538516 -3.7376392  -0.10068059  0.8508477\n",
       "    2.3102217  -2.3116806   0.42377272 -2.4772625 ]\n",
       "  [ 2.7487488  -4.3966975  -0.34349293  0.21728253  2.8769236  -0.8685564\n",
       "    1.043671    1.6044776   3.3574169  -2.03863     2.4267488  -4.0866175\n",
       "   -7.881054   -1.6601735  -3.0188706   0.43633783]\n",
       "  [-0.07416447 -5.2683864  -3.164918    1.3993866  -0.55918664  0.8092506\n",
       "    0.29617345  1.0570514   2.2183666  -1.1731374   1.6332475   4.8027444\n",
       "   -2.3475597   5.2277293  -2.2327604  -1.2765195 ]]\n",
       " <NDArray 5x16 @cpu(0)>]"
      ]
     },
     "execution_count": 72,
     "metadata": {},
     "output_type": "execute_result"
    }
   ],
   "source": [
    "tensors = {'embedding': mx_embeddings.asnumpy(), 'weights': np_weights}\n",
    "mx_execute(fc7, tensors)"
   ]
  },
  {
   "cell_type": "code",
   "execution_count": 74,
   "metadata": {},
   "outputs": [
    {
     "data": {
      "text/plain": [
       "[\n",
       " [ 3.317935   -2.399995    3.6377113  -0.34349293  1.3993866 ]\n",
       " <NDArray 5 @cpu(0)>]"
      ]
     },
     "execution_count": 74,
     "metadata": {},
     "output_type": "execute_result"
    }
   ],
   "source": [
    "gt_label = mx.symbol.Variable('softmax_label')\n",
    "zy = mx.sym.pick(fc7, gt_label, axis=1)\n",
    "tensors = {'embedding': mx_embeddings.asnumpy(), 'weights': np_weights, 'softmax_label': labels.numpy()}\n",
    "mx_execute(zy, tensors)"
   ]
  },
  {
   "cell_type": "code",
   "execution_count": null,
   "metadata": {},
   "outputs": [],
   "source": []
  },
  {
   "cell_type": "code",
   "execution_count": 75,
   "metadata": {},
   "outputs": [
    {
     "data": {
      "text/plain": [
       "<Symbol _plus0>"
      ]
     },
     "execution_count": 75,
     "metadata": {},
     "output_type": "execute_result"
    }
   ],
   "source": [
    "gt_label = mx.symbol.Variable('softmax_label')\n",
    "zy = mx.sym.pick(fc7, gt_label, axis=1)\n",
    "cos_t = zy/s\n",
    "t = mx.sym.arccos(cos_t)\n",
    "t = t*m1 + m2\n",
    "body = mx.sym.cos(t) - m3\n",
    "new_zy = body*s\n",
    "diff = new_zy - zy\n",
    "diff = mx.sym.expand_dims(diff, 1)\n",
    "gt_one_hot = mx.sym.one_hot(gt_label, depth = n_classes, on_value=1.0, off_value=0.0)\n",
    "body = mx.sym.broadcast_mul(gt_one_hot, diff)\n",
    "fc7 = fc7+body\n",
    "fc7"
   ]
  },
  {
   "cell_type": "code",
   "execution_count": 76,
   "metadata": {},
   "outputs": [
    {
     "data": {
      "text/plain": [
       "[\n",
       " [ 3.317935   -2.399995    3.6377113  -0.34349293  1.3993866 ]\n",
       " <NDArray 5 @cpu(0)>]"
      ]
     },
     "execution_count": 76,
     "metadata": {},
     "output_type": "execute_result"
    }
   ],
   "source": [
    "tensors = {'embedding': mx_embeddings.asnumpy(), 'weights': np_weights, 'softmax_label': labels.numpy()}\n",
    "mx_execute(zy, tensors)"
   ]
  },
  {
   "cell_type": "code",
   "execution_count": null,
   "metadata": {},
   "outputs": [],
   "source": []
  },
  {
   "cell_type": "code",
   "execution_count": null,
   "metadata": {},
   "outputs": [],
   "source": []
  },
  {
   "cell_type": "code",
   "execution_count": 77,
   "metadata": {
    "scrolled": true
   },
   "outputs": [
    {
     "data": {
      "text/plain": [
       "[\n",
       " [[-2.8518120e+01  5.6562982e+00 -3.7509007e+00  1.1437960e+00\n",
       "   -1.8169179e+00  1.6026497e+00  3.1707242e+00  4.1998893e-02\n",
       "    2.0338802e+00 -1.0047256e+00  1.8339500e-02  3.2171843e+00\n",
       "    3.7887456e+00  1.8762394e+00 -5.2336216e+00  3.1339884e+00]\n",
       "  [-5.0829635e+00 -3.3992802e+01  3.6928043e+00  1.1153157e+00\n",
       "   -3.9647973e-01 -6.4921451e-01 -3.1972394e+00 -5.1142991e-01\n",
       "    2.3976879e+00 -3.0261941e+00  1.7650807e+00 -1.0628684e+00\n",
       "    2.2858942e-01  1.4222214e+00  2.0530798e+00  1.2473373e+00]\n",
       "  [ 3.0782533e+00  1.4128864e+00 -4.2746344e+00  1.9914744e+00\n",
       "   -2.8207481e+01 -3.3860378e+00 -3.6145384e+00 -3.3598695e+00\n",
       "   -2.5538516e-01 -3.7376392e+00 -1.0068059e-01  8.5084772e-01\n",
       "    2.3102217e+00 -2.3116806e+00  4.2377272e-01 -2.4772625e+00]\n",
       "  [ 2.7487488e+00 -4.3966975e+00 -3.2041176e+01  2.1728253e-01\n",
       "    2.8769236e+00 -8.6855638e-01  1.0436710e+00  1.6044776e+00\n",
       "    3.3574169e+00 -2.0386300e+00  2.4267488e+00 -4.0866175e+00\n",
       "   -7.8810539e+00 -1.6601735e+00 -3.0188706e+00  4.3633783e-01]\n",
       "  [-7.4164465e-02 -5.2683864e+00 -3.1649179e+00 -3.0371887e+01\n",
       "   -5.5918664e-01  8.0925059e-01  2.9617345e-01  1.0570514e+00\n",
       "    2.2183666e+00 -1.1731374e+00  1.6332475e+00  4.8027444e+00\n",
       "   -2.3475597e+00  5.2277293e+00 -2.2327604e+00 -1.2765195e+00]]\n",
       " <NDArray 5x16 @cpu(0)>]"
      ]
     },
     "execution_count": 77,
     "metadata": {},
     "output_type": "execute_result"
    }
   ],
   "source": [
    "tensors = {'embedding': mx_embeddings.asnumpy(), 'weights': np_weights, 'softmax_label': labels.numpy()}\n",
    "mx_execute(fc7, tensors)"
   ]
  },
  {
   "cell_type": "code",
   "execution_count": null,
   "metadata": {},
   "outputs": [],
   "source": []
  },
  {
   "cell_type": "code",
   "execution_count": 78,
   "metadata": {},
   "outputs": [],
   "source": [
    "softmax = mx.symbol.SoftmaxOutput(data=fc7, label = gt_label, name='softmax', normalization='valid')"
   ]
  },
  {
   "cell_type": "code",
   "execution_count": 79,
   "metadata": {},
   "outputs": [
    {
     "data": {
      "text/plain": [
       "[\n",
       " [[9.64667930e-16 6.70099974e-01 5.50357690e-05 7.35164946e-03\n",
       "   3.80682672e-04 1.16322152e-02 5.58044128e-02 2.44275760e-03\n",
       "   1.79037284e-02 8.57617822e-04 2.38564215e-03 5.84582649e-02\n",
       "   1.03531338e-01 1.52925849e-02 1.24941798e-05 5.37915900e-02]\n",
       "  [1.76303704e-18 1.14769523e-03 5.08037329e-01 3.85928228e-02\n",
       "   8.51024687e-03 6.60968386e-03 5.17115637e-04 7.58612435e-03\n",
       "   1.39134139e-01 6.13580691e-04 7.39087537e-02 4.37052222e-03\n",
       "   1.59003343e-02 5.24558611e-02 9.85762551e-02 4.40395437e-02]\n",
       "  [4.99245158e-15 6.28295094e-02 2.12865212e-04 1.12057582e-01\n",
       "   5.81290007e-01 5.17627457e-04 4.11889603e-04 5.31351892e-04\n",
       "   1.18479319e-02 3.64182313e-04 1.38302455e-02 3.58156934e-02\n",
       "   1.54124409e-01 1.51567045e-03 2.33666860e-02 1.28437963e-03]\n",
       "  [3.39207515e-15 1.76150468e-04 1.01430379e-02 1.77709144e-02\n",
       "   2.53966957e-01 5.99978864e-03 4.06074449e-02 7.11477175e-02\n",
       "   4.10631984e-01 1.86199916e-03 1.61908165e-01 2.40187073e-04\n",
       "   5.40314750e-06 2.71857227e-03 6.98660675e-04 2.21230108e-02]\n",
       "  [4.69877002e-17 1.54037771e-05 1.26226965e-04 1.21172555e-02\n",
       "   1.70925457e-03 6.71600970e-03 4.02054470e-03 8.60458333e-03\n",
       "   2.74841767e-02 9.25063039e-04 1.53097706e-02 3.64303827e-01\n",
       "   2.85842107e-04 5.57227254e-01 3.20614228e-04 8.34205537e-04]]\n",
       " <NDArray 5x16 @cpu(0)>]"
      ]
     },
     "execution_count": 79,
     "metadata": {},
     "output_type": "execute_result"
    }
   ],
   "source": [
    "tensors = {'embedding': mx_embeddings.asnumpy(), 'weights': np_weights}\n",
    "mx_execute(softmax, tensors)"
   ]
  },
  {
   "cell_type": "code",
   "execution_count": null,
   "metadata": {},
   "outputs": [],
   "source": []
  },
  {
   "cell_type": "code",
   "execution_count": null,
   "metadata": {},
   "outputs": [],
   "source": []
  },
  {
   "cell_type": "code",
   "execution_count": null,
   "metadata": {},
   "outputs": [],
   "source": []
  },
  {
   "cell_type": "code",
   "execution_count": null,
   "metadata": {},
   "outputs": [],
   "source": []
  },
  {
   "cell_type": "code",
   "execution_count": null,
   "metadata": {},
   "outputs": [],
   "source": [
    "body = mx.sym.BatchNorm(data=body, fix_gamma=False, eps=2e-5, momentum=bn_mom, name='bn1')\n",
    "body = mx.symbol.Dropout(data=body, p=0.4)\n",
    "fc1 = mx.sym.FullyConnected(data=body, num_hidden=num_classes, name='pre_fc1')\n",
    "fc1 = mx.sym.BatchNorm(data=fc1, fix_gamma=True, eps=2e-5, momentum=bn_mom, name='fc1')"
   ]
  },
  {
   "cell_type": "code",
   "execution_count": null,
   "metadata": {},
   "outputs": [],
   "source": []
  },
  {
   "cell_type": "code",
   "execution_count": 9,
   "metadata": {},
   "outputs": [
    {
     "data": {
      "text/plain": [
       "<tensorflow.python.keras.engine.sequential.Sequential at 0x7f02e4e3aeb8>"
      ]
     },
     "execution_count": 9,
     "metadata": {},
     "output_type": "execute_result"
    }
   ],
   "source": [
    "backbone = tf.keras.Sequential([\n",
    "    tf.keras.applications.DenseNet121(include_top=False, pooling=None),\n",
    "    tf.keras.layers.BatchNormalization(),\n",
    "    tf.keras.layers.Dropout(0.4),\n",
    "    tf.keras.layers.Dense(n_classes),\n",
    "    tf.keras.layers.BatchNormalization()\n",
    "])\n",
    "\n",
    "backbone"
   ]
  },
  {
   "cell_type": "code",
   "execution_count": 10,
   "metadata": {},
   "outputs": [],
   "source": [
    "model = ArcFaceModel(backbone, n_classes)"
   ]
  },
  {
   "cell_type": "code",
   "execution_count": 12,
   "metadata": {},
   "outputs": [],
   "source": [
    "@tf.function\n",
    "def train_step(model, inputs, labels):\n",
    "    with tf.GradientTape() as tape:\n",
    "        prelogits, norm_dense = model(inputs, training=True)\n",
    "        loss = losses.arcface_loss(prelogits, norm_dense, labels, m1, m2, m3, s)\n",
    "    gradients = tape.gradient(loss, model.trainable_variables)\n",
    "    optimizer.apply_gradients(zip(gradients, model.trainable_variables))\n",
    "\n",
    "    return loss\n",
    "\n",
    "@tf.function\n",
    "def test_step(model, images, labels):\n",
    "    # training=False is only needed if there are layers with different\n",
    "    # behavior during training versus inference (e.g. Dropout).\n",
    "    prelogits, norm_dense = model(images, training=True) # training mode as loss is calculated\n",
    "    loss = losses.arcface_loss(prelogits, norm_dense, labels, m1, m2, m3, s)\n",
    "\n",
    "    return loss\n",
    "\n",
    "@tf.function\n",
    "def predict_embedding(model, images):\n",
    "    embeddings = model(images, training=False)\n",
    "    return embeddings\n",
    "\n",
    "\n",
    "def preprocess(path, training=True):\n",
    "    raw = tf.io.read_file(path)\n",
    "    image = tf.image.decode_png(raw)\n",
    "    if training:\n",
    "        image = tf.image.random_flip_left_right(image)\n",
    "#     image = tf.cast(image, tf.float32)\n",
    "    image = densenet.preprocess_input(image)\n",
    "    image = tf.image.resize(image, (img_w, img_h))\n",
    "    \n",
    "    # image = tf.image.resize(image, (224, 224))\n",
    "    # image = tf.image.random_crop(image, size=[112, 112, 3])\n",
    "\n",
    "    # image = image[None, ...]\n",
    "    return image\n",
    "\n",
    "\n",
    "def get_data(path):\n",
    "    ids = [o for o in os.listdir(data_dir) if os.path.isdir(os.path.join(data_dir, o))]\n",
    "    ids.sort()\n",
    "    cat_num = len(ids)\n",
    "\n",
    "    id_dict = dict(zip(ids, list(range(cat_num))))\n",
    "    paths = []\n",
    "    labels = []\n",
    "    for i in ids:\n",
    "        cur_dir = os.path.join(path, i)\n",
    "        fns = os.listdir(cur_dir)\n",
    "        paths.append([os.path.join(cur_dir, fn) for fn in fns])\n",
    "        labels.append([id_dict[i]] * len(fns))\n",
    "\n",
    "    return paths, labels\n",
    "\n",
    "def generate(path, preprocess_fn=preprocess, batch_size=128):\n",
    "    paths, labels = get_data(path)\n",
    "    n_classes = len(paths)\n",
    "    paths = [path for cls in paths for path in cls]\n",
    "    labels = [label for cls in labels for label in cls]\n",
    "    \n",
    "    assert (len(paths) == len(labels))\n",
    "    def p(inputs, labels): return preprocess_fn(inputs), labels\n",
    "    \n",
    "    ds = (tf.data.Dataset.from_tensor_slices((paths, labels))\n",
    "          .cache()\n",
    "          .shuffle(20000)\n",
    "          .prefetch(buffer_size=tf.data.experimental.AUTOTUNE)\n",
    "          .map(p, num_parallel_calls=tf.data.experimental.AUTOTUNE)\n",
    "          .batch(batch_size))\n",
    "    \n",
    "    return ds\n",
    "\n",
    "def evaluate(model, lfw_paths, actual_issame, batch_size, n_folds):\n",
    "    n_images = len(actual_issame) * 2\n",
    "    assert len(lfw_paths) == n_images\n",
    "\n",
    "    embs_array = np.zeros((n_images, args.embedding_size))\n",
    "    it = tqdm(range(0, n_images, batch_size), 'Predict embeddings')\n",
    "    for start in it:\n",
    "        end = start + batch_size\n",
    "        preprocessed = np.array([preprocess(path, training=False) for path in lfw_paths[start:end]])\n",
    "        embs_array[start:end] = predict_embedding(model, preprocessed)\n",
    "        \n",
    "    _, _, accuracy, val, val_std, far = lfw.evaluate(embs_array, actual_issame, n_folds=n_folds)\n",
    "    \n",
    "    print('Accuracy: %1.3f+-%1.3f' % (np.mean(accuracy), np.std(accuracy)))\n",
    "    print('Validation rate: %2.5f+-%2.5f @ FAR=%2.5f' % (val, val_std, far))\n",
    "\n",
    "    return np.mean(accuracy), val"
   ]
  },
  {
   "cell_type": "code",
   "execution_count": 13,
   "metadata": {},
   "outputs": [
    {
     "data": {
      "text/plain": [
       "['Jackie_Chan',\n",
       " 'Anna_Faris',\n",
       " 'Ricardo_Sanchez',\n",
       " 'Mahdi_Al_Bassam',\n",
       " 'Madonna',\n",
       " 'Alan_Greenspan',\n",
       " 'Lisa_Girman',\n",
       " 'Li_Peng',\n",
       " 'Daniel_Darnell',\n",
       " 'Emma_Thompson',\n",
       " 'Igor_Ivanov',\n",
       " 'Emma_Watson',\n",
       " 'Annie_Chaplin',\n",
       " 'Wu_Peng',\n",
       " 'Clint_Eastwood',\n",
       " 'Coco_dEste']"
      ]
     },
     "execution_count": 13,
     "metadata": {},
     "output_type": "execute_result"
    }
   ],
   "source": [
    "join_path = lambda p, x: os.path.isdir(os.path.join(p, x))\n",
    "[o for o in os.listdir(data_dir) if os.path.isdir(os.path.join(data_dir, o))]"
   ]
  },
  {
   "cell_type": "code",
   "execution_count": 33,
   "metadata": {},
   "outputs": [],
   "source": [
    "global_step = tf.Variable(5)\n",
    "ckpt = tf.train.Checkpoint(global_step=global_step, backbone=model.backbone, model=model, optimizer=optimizer)"
   ]
  },
  {
   "cell_type": "code",
   "execution_count": 34,
   "metadata": {},
   "outputs": [],
   "source": [
    "ckpt_manager = tf.train.CheckpointManager(ckpt, ckpt_dir, max_to_keep=10, \n",
    "                                          checkpoint_name='densenet121')"
   ]
  },
  {
   "cell_type": "code",
   "execution_count": 36,
   "metadata": {},
   "outputs": [
    {
     "data": {
      "text/plain": [
       "<tf.Variable 'UnreadVariable' shape=() dtype=int32, numpy=6>"
      ]
     },
     "execution_count": 36,
     "metadata": {},
     "output_type": "execute_result"
    }
   ],
   "source": [
    "global_step.assign_add(1)\n"
   ]
  },
  {
   "cell_type": "code",
   "execution_count": 37,
   "metadata": {},
   "outputs": [
    {
     "data": {
      "text/plain": [
       "<tf.Variable 'UnreadVariable' shape=() dtype=int32, numpy=6>"
      ]
     },
     "execution_count": 37,
     "metadata": {},
     "output_type": "execute_result"
    }
   ],
   "source": [
    "ckpt.global_step.assign(global_step)"
   ]
  },
  {
   "cell_type": "code",
   "execution_count": 16,
   "metadata": {},
   "outputs": [
    {
     "data": {
      "text/plain": [
       "<tensorflow.python.training.tracking.util.CheckpointLoadStatus at 0x7f02c1925e10>"
      ]
     },
     "execution_count": 16,
     "metadata": {},
     "output_type": "execute_result"
    }
   ],
   "source": [
    "ckpt.restore(ckpt_manager.latest_checkpoint)"
   ]
  },
  {
   "cell_type": "code",
   "execution_count": 29,
   "metadata": {},
   "outputs": [],
   "source": [
    "import csv\n",
    "\n",
    "file = '/home/cocoza4/workspace/absorouteio/asr-face-recognition/src/lfw.txt'\n",
    "\n",
    "exists = os.path.exists(file)\n",
    "columns = ['accuracy', 'val', 'far', 'frr']\n",
    "\n",
    "with open(file, mode='a+') as f:\n",
    "    writer = csv.DictWriter(f, fieldnames=columns)\n",
    "    if not exists:\n",
    "        writer.writeheader()\n",
    "    writer.writerow({'accuracy': 0.999, 'val': 0.63, 'far': 0.22, 'frr': 0.232})\n",
    "    writer.writerow({'accuracy': 0.998, 'val': 0.63, 'far': 0.22, 'frr': 0.232})"
   ]
  },
  {
   "cell_type": "code",
   "execution_count": null,
   "metadata": {},
   "outputs": [],
   "source": [
    "# epoch = 20, last step = 243301\n"
   ]
  },
  {
   "cell_type": "code",
   "execution_count": 44,
   "metadata": {},
   "outputs": [],
   "source": [
    "current_time = datetime.now().strftime(\"%Y-%m-%d\")\n",
    "logdir = os.path.join(base_logdir, current_time)\n",
    "\n",
    "summary = tf.compat.v2.summary\n",
    "writer = summary.create_file_writer(logdir)\n",
    "\n",
    "global_step = tf.Variable(0, name=\"global_step\", dtype=tf.int64)\n",
    "\n",
    "# pairs = lfw.read_pairs(args.lfw_pairs)\n",
    "# lfw_paths, actual_issame = lfw.get_paths(args.lfw_dir, pairs)\n",
    "\n",
    "train_gen = generate(data_dir, batch_size=4)"
   ]
  },
  {
   "cell_type": "code",
   "execution_count": 45,
   "metadata": {},
   "outputs": [],
   "source": [
    "# preprocessed = [preprocess(path) for path in lfw_paths[0:2]]\n",
    "# np.array(preprocessed).shape"
   ]
  },
  {
   "cell_type": "code",
   "execution_count": 46,
   "metadata": {},
   "outputs": [],
   "source": [
    "# np.array(preprocessed).shape"
   ]
  },
  {
   "cell_type": "code",
   "execution_count": 36,
   "metadata": {},
   "outputs": [],
   "source": [
    "ckpt_dir = './models'"
   ]
  },
  {
   "cell_type": "code",
   "execution_count": 37,
   "metadata": {},
   "outputs": [],
   "source": [
    "ckpt = tf.train.Checkpoint(backbone=model.backbone, model=model, optimizer=optimizer)\n",
    "ckpt_manager = tf.train.CheckpointManager(ckpt, ckpt_dir, max_to_keep=10, checkpoint_name='model')"
   ]
  },
  {
   "cell_type": "code",
   "execution_count": 39,
   "metadata": {},
   "outputs": [
    {
     "name": "stdout",
     "output_type": "stream",
     "text": [
      "Saving checkpoint for epoch 1 at ./models/model-1\n"
     ]
    }
   ],
   "source": [
    "save_path = ckpt_manager.save()\n",
    "print('Saving checkpoint for epoch {} at {}'.format(epoch, save_path))"
   ]
  },
  {
   "cell_type": "code",
   "execution_count": null,
   "metadata": {},
   "outputs": [],
   "source": []
  },
  {
   "cell_type": "code",
   "execution_count": 16,
   "metadata": {},
   "outputs": [],
   "source": [
    "# summary_dir = '/tmp/logs'\n",
    "# current_time = datetime.now().strftime(\"%Y-%m-%d\")\n",
    "# train_logdir = summary_dir # os.path.join(summary_dir, current_time, 'train')\n",
    "# # valid_log_dir = os.path.join(summary_dir, current_time, 'valid')\n",
    "\n",
    "# # summary_writer = tf.compat.v2.summary.create_file_writer(current_time)\n",
    "# writer = tf.compat.v2.summary.create_file_writer(train_logdir)\n",
    "# summary = tf.compat.v2.summary"
   ]
  },
  {
   "cell_type": "code",
   "execution_count": 17,
   "metadata": {},
   "outputs": [],
   "source": [
    "steps_per_epoch = 5\n",
    "epoch = 0\n",
    "lfw_n_folds = 10\n",
    "eval_every = 1\n",
    "batch_size = 32\n",
    "\n",
    "global_step = tf.Variable(0, name=\"global_step\", dtype=tf.int64)\n",
    "\n",
    "lfw_dir = '/home/cocoza4/datasets/lfw_mtcnnpy_160'\n",
    "lfw_pairs = lfw_dir + '/pairs.txt'"
   ]
  },
  {
   "cell_type": "code",
   "execution_count": 18,
   "metadata": {},
   "outputs": [],
   "source": [
    "train_gen = generate(data_dir, batch_size=8)"
   ]
  },
  {
   "cell_type": "code",
   "execution_count": 19,
   "metadata": {},
   "outputs": [],
   "source": [
    "pairs = lfw.read_pairs(lfw_pairs)\n",
    "lfw_paths, actual_issame = lfw.get_paths(lfw_dir, pairs)"
   ]
  },
  {
   "cell_type": "code",
   "execution_count": 56,
   "metadata": {},
   "outputs": [
    {
     "name": "stdout",
     "output_type": "stream",
     "text": [
      "Epoch: 1\tStep: 0\tTime 14.270\tLoss 37.514\tLearning Rate: 0.00010\n",
      "Epoch: 1\tStep: 1\tTime 1.121\tLoss 37.410\tLearning Rate: 0.00010\n",
      "Epoch: 1\tStep: 2\tTime 0.800\tLoss 38.433\tLearning Rate: 0.00010\n",
      "Epoch: 1\tStep: 3\tTime 1.143\tLoss 39.163\tLearning Rate: 0.00010\n",
      "Epoch: 1\tStep: 4\tTime 1.196\tLoss 35.346\tLearning Rate: 0.00009\n",
      "Epoch: 1\tStep: 5\tTime 1.652\tLoss 35.684\tLearning Rate: 0.00009\n",
      "Epoch: 1\tStep: 6\tTime 0.970\tLoss 36.890\tLearning Rate: 0.00009\n",
      "Epoch: 1\tStep: 7\tTime 0.521\tLoss 35.145\tLearning Rate: 0.00009\n",
      "Epoch: 1\tStep: 8\tTime 0.487\tLoss 35.901\tLearning Rate: 0.00008\n",
      "Epoch: 1\tStep: 9\tTime 0.746\tLoss 35.347\tLearning Rate: 0.00008\n",
      "Epoch: 1\tStep: 10\tTime 0.557\tLoss 34.618\tLearning Rate: 0.00008\n",
      "Epoch: 1\tStep: 11\tTime 0.597\tLoss 38.595\tLearning Rate: 0.00008\n",
      "Epoch: 1\tStep: 12\tTime 0.781\tLoss 34.713\tLearning Rate: 0.00008\n",
      "Epoch: 1\tStep: 13\tTime 0.736\tLoss 34.317\tLearning Rate: 0.00008\n",
      "Epoch: 1\tStep: 14\tTime 0.546\tLoss 35.636\tLearning Rate: 0.00008\n",
      "Epoch: 1\tStep: 15\tTime 0.489\tLoss 34.384\tLearning Rate: 0.00008\n",
      "Epoch: 1\tStep: 16\tTime 0.446\tLoss 38.043\tLearning Rate: 0.00007\n",
      "Epoch: 1\tStep: 17\tTime 0.452\tLoss 32.682\tLearning Rate: 0.00007\n",
      "Epoch: 2\tStep: 18\tTime 0.516\tLoss 33.862\tLearning Rate: 0.00007\n",
      "Epoch: 2\tStep: 19\tTime 0.453\tLoss 32.811\tLearning Rate: 0.00007\n",
      "Epoch: 2\tStep: 20\tTime 1.049\tLoss 31.913\tLearning Rate: 0.00007\n",
      "Epoch: 2\tStep: 21\tTime 0.903\tLoss 30.607\tLearning Rate: 0.00007\n",
      "Epoch: 2\tStep: 22\tTime 0.633\tLoss 31.627\tLearning Rate: 0.00006\n",
      "Epoch: 2\tStep: 23\tTime 0.617\tLoss 31.062\tLearning Rate: 0.00006\n",
      "Epoch: 2\tStep: 24\tTime 0.729\tLoss 32.536\tLearning Rate: 0.00006\n",
      "Epoch: 2\tStep: 25\tTime 1.089\tLoss 30.797\tLearning Rate: 0.00006\n",
      "Epoch: 2\tStep: 26\tTime 0.908\tLoss 31.560\tLearning Rate: 0.00006\n",
      "Epoch: 2\tStep: 27\tTime 1.075\tLoss 35.978\tLearning Rate: 0.00006\n",
      "Epoch: 2\tStep: 28\tTime 1.158\tLoss 30.048\tLearning Rate: 0.00006\n",
      "Epoch: 2\tStep: 29\tTime 1.033\tLoss 34.539\tLearning Rate: 0.00006\n",
      "Epoch: 2\tStep: 30\tTime 0.463\tLoss 35.945\tLearning Rate: 0.00005\n",
      "Epoch: 2\tStep: 31\tTime 0.582\tLoss 31.857\tLearning Rate: 0.00005\n",
      "Epoch: 2\tStep: 32\tTime 0.430\tLoss 30.824\tLearning Rate: 0.00005\n",
      "Epoch: 2\tStep: 33\tTime 0.534\tLoss 31.565\tLearning Rate: 0.00005\n",
      "Epoch: 2\tStep: 34\tTime 0.762\tLoss 33.122\tLearning Rate: 0.00005\n",
      "Epoch: 2\tStep: 35\tTime 0.627\tLoss 28.264\tLearning Rate: 0.00005\n"
     ]
    }
   ],
   "source": [
    "with writer.as_default():\n",
    "    for epoch in range(epochs):\n",
    "\n",
    "        for inputs, targets in train_gen:\n",
    "            t1 = time.time()\n",
    "            loss = train_step(model, inputs, targets)\n",
    "            elapsed = time.time() - t1\n",
    "            summary.scalar('train/loss', loss, step=global_step)\n",
    "            current_lr = lr_schedule(global_step)\n",
    "            print('Epoch: %d\\tStep: %d\\tTime %.3f\\tLoss %2.3f\\tLearning Rate: %.5f' % \n",
    "                    (epoch+1, global_step, elapsed, loss, current_lr))\n",
    "\n",
    "            global_step.assign_add(1)\n",
    "\n",
    "#         if epoch % eval_every == 0 or epoch == epochs-1:\n",
    "#             t1 = time.time()\n",
    "#             accuracy, val = evaluate(lfw_paths, actual_issame, batch_size, lfw_n_folds)\n",
    "#             time_elapsed = time.time() - t1\n",
    "# #             summary.scalar('lfw/time_elapsed', loss, step=global_step)\n",
    "#             summary.scalar('lfw/accuracy', simple_value=accuracy)\n",
    "#             summary.scalar('lfw/val_rate', simple_value=val)\n",
    "#             summary.scalar('lfw/time_elapsed', simple_value=time_elapsed)\n",
    "\n",
    "    #     summary_writer.add_summary(summary, step)\n",
    "        writer.flush()\n"
   ]
  },
  {
   "cell_type": "code",
   "execution_count": null,
   "metadata": {},
   "outputs": [],
   "source": []
  },
  {
   "cell_type": "code",
   "execution_count": null,
   "metadata": {},
   "outputs": [],
   "source": []
  },
  {
   "cell_type": "code",
   "execution_count": null,
   "metadata": {},
   "outputs": [],
   "source": []
  },
  {
   "cell_type": "code",
   "execution_count": null,
   "metadata": {},
   "outputs": [],
   "source": []
  },
  {
   "cell_type": "code",
   "execution_count": null,
   "metadata": {},
   "outputs": [],
   "source": []
  },
  {
   "cell_type": "code",
   "execution_count": null,
   "metadata": {},
   "outputs": [],
   "source": []
  },
  {
   "cell_type": "code",
   "execution_count": null,
   "metadata": {},
   "outputs": [],
   "source": []
  }
 ],
 "metadata": {
  "kernelspec": {
   "display_name": "ar-models",
   "language": "python",
   "name": "ar-models"
  },
  "language_info": {
   "codemirror_mode": {
    "name": "ipython",
    "version": 3
   },
   "file_extension": ".py",
   "mimetype": "text/x-python",
   "name": "python",
   "nbconvert_exporter": "python",
   "pygments_lexer": "ipython3",
   "version": "3.6.5"
  }
 },
 "nbformat": 4,
 "nbformat_minor": 2
}
